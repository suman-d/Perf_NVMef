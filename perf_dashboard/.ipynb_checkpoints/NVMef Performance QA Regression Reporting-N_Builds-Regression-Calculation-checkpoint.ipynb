{
 "cells": [
  {
   "cell_type": "code",
   "execution_count": 1,
   "metadata": {
    "collapsed": true
   },
   "outputs": [],
   "source": [
    "import os\n",
    "import glob\n",
    "import dash\n",
    "import datetime\n",
    "import pandas as pd\n",
    "import plotly.offline as pyo\n",
    "import plotly.graph_objs as go\n",
    "import dash_core_components as dcc\n",
    "import dash_html_components as html\n",
    "from collections import OrderedDict"
   ]
  },
  {
   "cell_type": "markdown",
   "metadata": {},
   "source": [
    "## Auto Summary "
   ]
  },
  {
   "cell_type": "code",
   "execution_count": 2,
   "metadata": {
    "collapsed": true
   },
   "outputs": [],
   "source": [
    "results = {}"
   ]
  },
  {
   "cell_type": "markdown",
   "metadata": {},
   "source": [
    "# Build Results(One or more) and Baseline Results(One)"
   ]
  },
  {
   "cell_type": "code",
   "execution_count": 3,
   "metadata": {},
   "outputs": [
    {
     "data": {
      "text/plain": [
       "['.ipynb_checkpoints',\n",
       " 'Chart_Gen.py',\n",
       " 'Dashboard.py',\n",
       " 'debug.log',\n",
       " 'ibooks',\n",
       " 'NVMef Performance QA Regression Reporting-N_Builds-Regression-Calculation.ipynb',\n",
       " 'post_test_baseline_cal.py',\n",
       " 'post_test_data_collector.py',\n",
       " 'Regression_Cal.py',\n",
       " 'Results_baseline_abstract_3.6.10307',\n",
       " 'Results_build_abstract_3.7.10408_2018-05-08_11-01-54',\n",
       " 'Results_build_abstract_3.7.10435_2018-05-10_17-50-42',\n",
       " '__pycache__']"
      ]
     },
     "execution_count": 3,
     "metadata": {},
     "output_type": "execute_result"
    }
   ],
   "source": [
    "pwd= os.getcwd()\n",
    "os.listdir(os.getcwd())"
   ]
  },
  {
   "cell_type": "code",
   "execution_count": 4,
   "metadata": {
    "collapsed": true
   },
   "outputs": [],
   "source": [
    "result_folder_build_1 = os.path.join(pwd, \"Results_baseline_abstract_3.6.10307\")                     # Baseline\n",
    "result_folder_build_2 = os.path.join(pwd, \"Results_build_abstract_3.7.10408_2018-05-08_11-01-54\")\n",
    "result_folder_build_3 = os.path.join(pwd, \"Results_build_abstract_3.7.10435_2018-05-10_17-50-42\")    \n",
    "\n",
    "\n",
    "# Like this we can have result_folder_build_4, result_folder_build_n"
   ]
  },
  {
   "cell_type": "markdown",
   "metadata": {},
   "source": [
    "# Loading the DataFrame for Baseline and Build"
   ]
  },
  {
   "cell_type": "code",
   "execution_count": 5,
   "metadata": {
    "collapsed": true
   },
   "outputs": [],
   "source": [
    "def results_df(*argv):\n",
    "\n",
    "    runs_dict = {}\n",
    "    num = 1\n",
    "    for f in argv:\n",
    "        f_name = os.path.basename(f)\n",
    "        _ = f_name.lower().split(\"_\")\n",
    "        if \"baseline\" in _:\n",
    "            result_file = os.path.join(f, \"final.csv\")\n",
    "            df = pd.read_csv(result_file)\n",
    "            runs_dict[\"baseline\"] = [_[3], df]\n",
    "\n",
    "          \n",
    "        else:\n",
    "            k = \"build_\" + str(num)\n",
    "            result_file = os.path.join(f, \"final.csv\")\n",
    "            df = pd.read_csv(result_file)\n",
    "            runs_dict[k] = [_[3], df]\n",
    "            num +=1\n",
    "        \n",
    "    \n",
    "    return runs_dict\n",
    "        \n",
    "    "
   ]
  },
  {
   "cell_type": "code",
   "execution_count": 7,
   "metadata": {
    "collapsed": true
   },
   "outputs": [],
   "source": [
    "all_runs = results_df(result_folder_build_1, result_folder_build_2, result_folder_build_3)\n"
   ]
  },
  {
   "cell_type": "markdown",
   "metadata": {},
   "source": [
    "## Version Checker\n"
   ]
  },
  {
   "cell_type": "code",
   "execution_count": 8,
   "metadata": {
    "collapsed": true
   },
   "outputs": [],
   "source": [
    "def version_check(all_tests):\n",
    "    versions = []\n",
    "    for i in all_runs:\n",
    "        versions.append(all_runs[i][0])    \n",
    "     \n",
    "    return min(versions), max(versions)"
   ]
  },
  {
   "cell_type": "markdown",
   "metadata": {},
   "source": [
    "# Bandwidth Charts"
   ]
  },
  {
   "cell_type": "code",
   "execution_count": 9,
   "metadata": {
    "collapsed": true
   },
   "outputs": [],
   "source": [
    "def bandwidth_blocksize(test_name, chart_title, all_tests):\n",
    "\n",
    "    _, latest_version = version_check(all_tests)\n",
    "\n",
    "    data = []\n",
    "    bs_str = {  512: \"512\",\n",
    "                1024: \"1K\",\n",
    "                2048: \"2K\",\n",
    "                4096: \"4K\",\n",
    "                8192: \"8K\",\n",
    "                16384: \"16K\",\n",
    "                32768: \"32K\",\n",
    "                65536: \"64K\",\n",
    "                131072: \"128K\"\n",
    "             }\n",
    "\n",
    "    for test in all_tests:\n",
    "        num = 1\n",
    "        if test == \"baseline\":\n",
    "            df_1 = all_tests[test][1]\n",
    "            df_1_version = all_tests[test][0] + \"(Baseline)\"\n",
    "            baseline_ver = df_1_version\n",
    "\n",
    "            df_1 = df_1[df_1[\"Test_Name\"] == test_name]\n",
    "            df_1.index = range(1, len(df_1.index)+1)\n",
    "\n",
    "            df_baseline_full = df_1.copy()\n",
    "\n",
    "            df_1 = df_1[[\"Block Size\", \"Bandwidth (MB/s)\", \"Appliance_CPU_Utilization\", \"Appliance_Memory_Utilization\"]]\n",
    "            df_1[\"Block Size\"] = [ bs_str[i] for i in df_1[\"Block Size\"]]\n",
    "\n",
    "            # Adding Data\n",
    "            x_block_size = [str(i) for i in df_1[\"Block Size\"]]\n",
    "\n",
    "            y1_df1_BW = df_1[\"Bandwidth (MB/s)\"]\n",
    "            y2_df1_CPU = df_1[\"Appliance_CPU_Utilization\"]\n",
    "            y3_df1_Mem = df_1[\"Appliance_Memory_Utilization\"]\n",
    "\n",
    "\n",
    "            trace0=go.Scatter(x=x_block_size,\n",
    "                                y = y1_df1_BW,\n",
    "                                name = df_1_version,\n",
    "                                line = dict(width = 4),\n",
    "                                hoverlabel = { \"namelength\" : -1},\n",
    "                                cliponaxis = False)\n",
    "\n",
    "            trace1 = go.Scatter(x = x_block_size,\n",
    "                                y = y2_df1_CPU,\n",
    "                                name = \"CPU Utilization \" + df_1_version,\n",
    "                                mode='markers',\n",
    "                                hoverlabel = { \"namelength\" : -1},\n",
    "                                cliponaxis = False,\n",
    "                                yaxis='y2')\n",
    "\n",
    "            trace2 = go.Scatter(x = x_block_size,\n",
    "                                y = y3_df1_Mem,\n",
    "                                name = \"Memory Utilization \" + df_1_version,\n",
    "                                mode='markers',\n",
    "                                hoverlabel = { \"namelength\" : -1},\n",
    "                                cliponaxis = False,\n",
    "                                yaxis='y2')\n",
    "\n",
    "            data.append(trace0)\n",
    "            data.append(trace1)\n",
    "            data.append(trace2)\n",
    "\n",
    "            base_df = df_1.copy()\n",
    "\n",
    "        else:\n",
    "\n",
    "            df_run = all_tests[test][1]\n",
    "            df_run_version = all_tests[test][0]\n",
    "\n",
    "            df_run = df_run[df_run[\"Test_Name\"] == test_name]\n",
    "            df_run.index = range(1, len(df_run.index)+1)\n",
    "\n",
    "            df_run_full = df_run.copy()\n",
    "\n",
    "            df_run = df_run[[\"Block Size\", \"Bandwidth (MB/s)\", \"Appliance_CPU_Utilization\", \"Appliance_Memory_Utilization\"]]\n",
    "            df_run[\"Block Size\"] = [ bs_str[i] for i in df_run[\"Block Size\"]]\n",
    "\n",
    "            # Adding Data\n",
    "            x_block_size = [str(i) for i in df_run[\"Block Size\"]]\n",
    "\n",
    "            y1_df_run_BW = df_run[\"Bandwidth (MB/s)\"]\n",
    "            y2_df_run_CPU = df_run[\"Appliance_CPU_Utilization\"]\n",
    "            y3_df_run_Mem = df_run[\"Appliance_Memory_Utilization\"]\n",
    "\n",
    "\n",
    "            if df_run_version == latest_version:\n",
    "                df_run_version += \"(Latest)\"\n",
    "                latest_df = df_run.copy()\n",
    "                latest_ver = df_run_version\n",
    "\n",
    "            trace0 = go.Scatter(x = x_block_size,\n",
    "                                y = y1_df_run_BW,\n",
    "                                name = df_run_version,\n",
    "                                line = dict(width = 4),\n",
    "                                hoverlabel = { \"namelength\" : -1},\n",
    "                                cliponaxis = False)\n",
    "\n",
    "            trace1 = go.Scatter(x = x_block_size,\n",
    "                                y = y2_df_run_CPU,\n",
    "                                name = \"CPU Utilization\" + df_run_version,\n",
    "                                mode='markers',\n",
    "                                hoverlabel = { \"namelength\" : -1},\n",
    "                                cliponaxis = False,\n",
    "                                yaxis='y2')\n",
    "\n",
    "            trace2 = go.Scatter(x = x_block_size,\n",
    "                                y = y3_df_run_Mem,\n",
    "                                name = \"Memory Utilization\" + df_run_version,\n",
    "                                mode='markers',\n",
    "                                hoverlabel = { \"namelength\" : -1},\n",
    "                                cliponaxis = False,\n",
    "                                yaxis='y2')\n",
    "\n",
    "            data.append(trace0)\n",
    "            data.append(trace1)\n",
    "            data.append(trace2)\n",
    "\n",
    "\n",
    "    layout = go.Layout(title = chart_title,\n",
    "                       xaxis = dict(title = \"Block Size (in Bytes)\"),\n",
    "                       yaxis = dict(title = \"Throughput (in MBps)\" ),\n",
    "                       yaxis2=dict(title='Appliance Resource Utilization (in %)',\n",
    "                        titlefont=dict(\n",
    "                            color='rgb(148, 103, 189)'\n",
    "                        ),\n",
    "                        tickfont=dict(\n",
    "                            color='rgb(148, 103, 189)'\n",
    "                        ),\n",
    "                        overlaying='y',\n",
    "                        side='right'), \n",
    "                      legend=dict(y=-.2, orientation='h'))\n",
    "\n",
    "\n",
    "    fig = dict(data=data, layout=layout)\n",
    "\n",
    "    f_name = \"BW_\" + chart_title.replace(\" \", \"_\") + \".html\"\n",
    "\n",
    "    data = [pyo.plot(fig, filename=f_name, auto_open=False), base_df, latest_df, df_baseline_full, df_run_full, baseline_ver, latest_ver, fig]\n",
    "\n",
    "    #return pyo.plot(fig, filename=f_name, auto_open=False), base_df, latest_df\n",
    "    return data\n"
   ]
  },
  {
   "cell_type": "markdown",
   "metadata": {},
   "source": [
    "## Chart 1 - Sustained Multi-Threaded Sequential Read Tests by Block Size\n"
   ]
  },
  {
   "cell_type": "code",
   "execution_count": 20,
   "metadata": {
    "collapsed": true
   },
   "outputs": [],
   "source": [
    "test_name = \"Sustained Multi-Threaded Sequential Read Tests by Block Size\"\n",
    "chart_path, base_df, latest_df, df_baseline_full, df_run_full, baseline_version, latest_version,  fig = bandwidth_blocksize(test_name = test_name,\n",
    "                                                                                             chart_title=\"Sustained Multi-Threaded Sequential Read Tests by Block Size\",\n",
    "                                                                                             all_tests=all_runs)\n",
    "test_name = test_name + \"_BW\"\n",
    "\n",
    "results[test_name] = [chart_path, base_df, latest_df, df_baseline_full, df_run_full, baseline_version, latest_version, fig]\n"
   ]
  },
  {
   "cell_type": "markdown",
   "metadata": {},
   "source": [
    "## Chart 2 - Sustained Multi-Threaded Random Read Tests by Block Size(QD=256)\n"
   ]
  },
  {
   "cell_type": "code",
   "execution_count": 21,
   "metadata": {
    "collapsed": true
   },
   "outputs": [],
   "source": [
    "test_name = \"Sustained Multi-Threaded Random Read Tests by Block Size\"\n",
    "chart_path, base_df, latest_df, df_baseline_full, df_run_full, baseline_version, latest_version, fig = bandwidth_blocksize(test_name = test_name,\n",
    "                                                                                             chart_title=\"Sustained Multi-Threaded Random Read Tests by Block Size\",\n",
    "                                                                                             all_tests=all_runs)\n",
    "test_name = test_name + \"_BW\"\n",
    "results[test_name] = [chart_path, base_df, latest_df, df_baseline_full, df_run_full, baseline_version, latest_version, fig]\n"
   ]
  },
  {
   "cell_type": "markdown",
   "metadata": {},
   "source": [
    "## Chart 3 - Sequential Write Tests with Queue Depth=1 by Block Size\n"
   ]
  },
  {
   "cell_type": "code",
   "execution_count": 22,
   "metadata": {
    "collapsed": true
   },
   "outputs": [],
   "source": [
    "test_name = \"Sequential Write Tests with Queue Depth=1 by Block Size\"\n",
    "chart_path, base_df, latest_df, df_baseline_full, df_run_full, baseline_version, latest_version, fig = bandwidth_blocksize(test_name = test_name,\n",
    "                                                                                             chart_title=\"Sequential Write Tests with Queue Depth 1 by Block Size\",\n",
    "                                                                                             all_tests=all_runs)\n",
    "\n",
    "test_name = test_name + \"_BW\"\n",
    "results[test_name] = [chart_path, base_df, latest_df, df_baseline_full, df_run_full, baseline_version, latest_version, fig]\n"
   ]
  },
  {
   "cell_type": "markdown",
   "metadata": {},
   "source": [
    "# IOPS Charts"
   ]
  },
  {
   "cell_type": "code",
   "execution_count": 23,
   "metadata": {
    "collapsed": true
   },
   "outputs": [],
   "source": [
    "def iops_qd(test_name, chart_title, all_tests):\n",
    "\n",
    "    _, latest_version = version_check(all_tests)\n",
    "\n",
    "    data =[]\n",
    "    for test in all_tests:\n",
    "        num = 1\n",
    "        if test == \"baseline\":\n",
    "            df_1 = all_tests[test][1]\n",
    "            df_1_version = all_tests[test][0] + \"(Baseline)\"\n",
    "            baseline_ver = df_1_version\n",
    "\n",
    "\n",
    "            df_1 = df_1[df_1[\"Test_Name\"] == test_name]\n",
    "            df_1.index = range(1, len(df_1.index)+1)\n",
    "\n",
    "            df_baseline_full = df_1.copy()\n",
    "\n",
    "            df_1 = df_1[[\"Threads\", \"IOPS\", \"Appliance_CPU_Utilization\", \"Appliance_Memory_Utilization\"]]\n",
    "\n",
    "\n",
    "            # Adding Data\n",
    "            x_qd = [str(i) for i in df_1[\"Threads\"]]\n",
    "            y1_df1_IOPS = df_1[\"IOPS\"]\n",
    "            y2_df1_CPU = df_1[\"Appliance_CPU_Utilization\"]\n",
    "            y3_df1_Mem = df_1[\"Appliance_Memory_Utilization\"]\n",
    "\n",
    "\n",
    "            trace0 = go.Scatter(x = x_qd,\n",
    "                                y = y1_df1_IOPS,\n",
    "                                name = df_1_version,\n",
    "                                line = dict(width = 4),\n",
    "                                hoverlabel = { \"namelength\" : -1},\n",
    "                                cliponaxis = False)\n",
    "\n",
    "            trace1 = go.Scatter(x = x_qd,\n",
    "                                y = y2_df1_CPU,\n",
    "                                name = \"CPU Utilization \" + df_1_version,\n",
    "                                mode='markers',\n",
    "                                hoverlabel = { \"namelength\" : -1},\n",
    "                                cliponaxis = False,\n",
    "                                yaxis='y2')\n",
    "\n",
    "            trace2 = go.Scatter(x = x_qd,\n",
    "                                y = y3_df1_Mem,\n",
    "                                name = \"Memory Utilization \" + df_1_version,\n",
    "                                mode='markers',\n",
    "                                hoverlabel = { \"namelength\" : -1},\n",
    "                                cliponaxis = False,\n",
    "                                yaxis='y2')\n",
    "\n",
    "            data.append(trace0)\n",
    "            data.append(trace1)\n",
    "            data.append(trace2)\n",
    "\n",
    "            base_df = df_1.copy()\n",
    "\n",
    "        else:\n",
    "\n",
    "            df_run = all_tests[test][1]\n",
    "            df_run_version = all_tests[test][0]\n",
    "\n",
    "\n",
    "            df_run = df_run[df_run[\"Test_Name\"] == test_name]\n",
    "            df_run.index = range(1, len(df_run.index)+1)\n",
    "\n",
    "            df_run_full = df_run.copy()\n",
    "\n",
    "            df_run = df_run[[\"Threads\", \"IOPS\", \"Appliance_CPU_Utilization\", \"Appliance_Memory_Utilization\"]]\n",
    "\n",
    "\n",
    "            # Adding Data\n",
    "            x_qd = [str(i) for i in df_run[\"Threads\"]]\n",
    "\n",
    "            y1_df_run_IOPS = df_run[\"IOPS\"]\n",
    "            y2_df_run_CPU = df_run[\"Appliance_CPU_Utilization\"]\n",
    "            y3_df_run_Mem = df_run[\"Appliance_Memory_Utilization\"]\n",
    "\n",
    "            if df_run_version == latest_version:\n",
    "                df_run_version += \"(Latest)\"\n",
    "                latest_df = df_run.copy()\n",
    "                latest_ver = df_run_version\n",
    "\n",
    "            trace0 = go.Scatter(x = x_qd,\n",
    "                                y = y1_df_run_IOPS,\n",
    "                                name = df_run_version,\n",
    "                                line = dict(width = 4),\n",
    "                                hoverlabel = { \"namelength\" : -1},\n",
    "                                cliponaxis = False)\n",
    "\n",
    "            trace1 = go.Scatter(x = x_qd,\n",
    "                                y = y2_df_run_CPU,\n",
    "                                name = \"CPU Utilization \" + df_run_version,\n",
    "                                mode='markers',\n",
    "                                hoverlabel = { \"namelength\" : -1},\n",
    "                                cliponaxis = False,\n",
    "                                yaxis='y2')\n",
    "\n",
    "            trace2 = go.Scatter(x = x_qd,\n",
    "                                y = y3_df_run_Mem,\n",
    "                                name = \"Memory Utilization \" + df_run_version,\n",
    "                                mode='markers',\n",
    "                                hoverlabel = { \"namelength\" : -1},\n",
    "                                cliponaxis = False,\n",
    "                                yaxis='y2')\n",
    "\n",
    "            data.append(trace0)\n",
    "            data.append(trace1)\n",
    "            data.append(trace2)\n",
    "\n",
    "\n",
    "    layout = go.Layout(title = chart_title,\n",
    "                       xaxis = dict(title = \"Queue Depth\"),\n",
    "                       yaxis = dict(title = \"IOPS\" ),\n",
    "                       yaxis2=dict(title='Appliance Resource Utilization (in %)',\n",
    "                        titlefont=dict(\n",
    "                            color='rgb(148, 103, 189)'\n",
    "                        ),\n",
    "                        tickfont=dict(\n",
    "                            color='rgb(148, 103, 189)'\n",
    "                        ),\n",
    "                        overlaying='y',\n",
    "                        side='right'\n",
    "                    ))\n",
    "\n",
    "\n",
    "    fig = dict(data=data, layout=layout)\n",
    "\n",
    "    f_name = \"IOPS_\" + chart_title.replace(\" \", \"_\") + \".html\"\n",
    "\n",
    "    data = [pyo.plot(fig, filename=f_name, auto_open=False), base_df, latest_df, df_baseline_full, df_run_full, baseline_ver, latest_ver, fig]\n",
    "\n",
    "    #return pyo.plot(fig, filename=f_name, auto_open=False), base_df, latest_df\n",
    "    return data\n"
   ]
  },
  {
   "cell_type": "code",
   "execution_count": 24,
   "metadata": {
    "collapsed": true
   },
   "outputs": [],
   "source": [
    "def iops_bs(test_name, chart_title, all_tests):\n",
    "\n",
    "    _, latest_version = version_check(all_tests)\n",
    "\n",
    "    data = []\n",
    "    bs_str = {  512: \"512\",\n",
    "                1024: \"1K\",\n",
    "                2048: \"2K\",\n",
    "                4096: \"4K\",\n",
    "                8192: \"8K\",\n",
    "                16384: \"16K\",\n",
    "                32768: \"32K\",\n",
    "                65536: \"64K\",\n",
    "                131072: \"128K\"\n",
    "             }\n",
    "\n",
    "\n",
    "    for test in all_tests:\n",
    "        num = 1\n",
    "        if test == \"baseline\":\n",
    "            df_1 = all_tests[test][1]\n",
    "            df_1_version = all_tests[test][0] + \"(Baseline)\"\n",
    "            baseline_ver = df_1_version\n",
    "\n",
    "            df_1 = df_1[df_1[\"Test_Name\"] == test_name]\n",
    "            df_1.index = range(1, len(df_1.index)+1)\n",
    "\n",
    "            df_baseline_full = df_1.copy()\n",
    "\n",
    "            df_1 = df_1[[\"Block Size\", \"IOPS\", \"Appliance_CPU_Utilization\", \"Appliance_Memory_Utilization\"]]\n",
    "            df_1[\"Block Size\"] = [ bs_str[i] for i in df_1[\"Block Size\"]]\n",
    "\n",
    "\n",
    "            # Adding Data\n",
    "            x_block_size = [str(i) for i in df_1[\"Block Size\"]]\n",
    "            y1_df1_IOPS = df_1[\"IOPS\"]\n",
    "            y2_df1_CPU = df_1[\"Appliance_CPU_Utilization\"]\n",
    "            y3_df1_Mem = df_1[\"Appliance_Memory_Utilization\"]\n",
    "\n",
    "\n",
    "            trace0 = go.Scatter(x = x_block_size,\n",
    "                                y = y1_df1_IOPS,\n",
    "                                name = df_1_version,\n",
    "                                line = dict(width = 4),\n",
    "                                hoverlabel = { \"namelength\" : -1},\n",
    "                                cliponaxis = False)\n",
    "\n",
    "            trace1 = go.Scatter(x = x_block_size,\n",
    "                                y = y2_df1_CPU,\n",
    "                                name = \"CPU Utilization \" + df_1_version,\n",
    "                                mode='markers',\n",
    "                                hoverlabel = { \"namelength\" : -1},\n",
    "                                cliponaxis = False,\n",
    "                                yaxis='y2')\n",
    "\n",
    "            trace2 = go.Scatter(x = x_block_size,\n",
    "                                y = y3_df1_Mem,\n",
    "                                name = \"Memory Utilization \" + df_1_version,\n",
    "                                mode='markers',\n",
    "                                hoverlabel = { \"namelength\" : -1},\n",
    "                                cliponaxis = False,\n",
    "                                yaxis='y2')\n",
    "\n",
    "            data.append(trace0)\n",
    "            data.append(trace1)\n",
    "            data.append(trace2)\n",
    "\n",
    "            base_df = df_1.copy()\n",
    "\n",
    "        else:\n",
    "\n",
    "            df_run = all_tests[test][1]\n",
    "            df_run_version = all_tests[test][0]\n",
    "\n",
    "\n",
    "            df_run = df_run[df_run[\"Test_Name\"] == test_name]\n",
    "            df_run.index = range(1, len(df_run.index)+1)\n",
    "\n",
    "            df_run_full = df_run.copy()\n",
    "\n",
    "            df_run = df_run[[\"Block Size\", \"IOPS\", \"Appliance_CPU_Utilization\", \"Appliance_Memory_Utilization\"]]\n",
    "            df_run[\"Block Size\"] = [ bs_str[i] for i in df_run[\"Block Size\"]]\n",
    "\n",
    "            # Adding Data\n",
    "            x_block_size = [str(i) for i in df_run[\"Block Size\"]]\n",
    "\n",
    "            y1_df_run_IOPS = df_run[\"IOPS\"]\n",
    "            y2_df_run_CPU = df_run[\"Appliance_CPU_Utilization\"]\n",
    "            y3_df_run_Mem = df_run[\"Appliance_Memory_Utilization\"]\n",
    "\n",
    "            if df_run_version == latest_version:\n",
    "                df_run_version += \"(Latest)\"\n",
    "                latest_df = df_run.copy()\n",
    "                latest_ver = df_run_version\n",
    "\n",
    "            trace0 = go.Scatter(x = x_block_size,\n",
    "                                y = y1_df_run_IOPS,\n",
    "                                name = df_run_version,\n",
    "                                line = dict(width = 4),\n",
    "                                hoverlabel = { \"namelength\" : -1},\n",
    "                                cliponaxis = False)\n",
    "\n",
    "            trace1 = go.Scatter(x = x_block_size,\n",
    "                                y = y2_df_run_CPU,\n",
    "                                name = \"CPU Utilization \" + df_run_version,\n",
    "                                mode='markers',\n",
    "                                hoverlabel = { \"namelength\" : -1},\n",
    "                                cliponaxis = False,\n",
    "                                yaxis='y2')\n",
    "\n",
    "            trace2 = go.Scatter(x = x_block_size,\n",
    "                                y = y3_df_run_Mem,\n",
    "                                name = \"Memory Utilization \" + df_run_version,\n",
    "                                mode='markers',\n",
    "                                hoverlabel = { \"namelength\" : -1},\n",
    "                                cliponaxis = False,\n",
    "                                yaxis='y2')\n",
    "\n",
    "            data.append(trace0)\n",
    "            data.append(trace1)\n",
    "            data.append(trace2)\n",
    "\n",
    "    layout = go.Layout(title = chart_title,\n",
    "                       xaxis = dict(title = \"Block Size (in Bytes)\"),\n",
    "                       yaxis = dict(title = \"IOPS\" ),\n",
    "                       yaxis2=dict(title='Appliance Resource Utilization (in %)',\n",
    "                        titlefont=dict(\n",
    "                            color='rgb(148, 103, 189)'\n",
    "                        ),\n",
    "                        tickfont=dict(\n",
    "                            color='rgb(148, 103, 189)'\n",
    "                        ),\n",
    "                        overlaying='y',\n",
    "                        side='right'\n",
    "                    ))\n",
    "\n",
    "\n",
    "    fig = dict(data=data, layout=layout)\n",
    "\n",
    "    f_name = \"IOPS_\" + chart_title.replace(\" \", \"_\") + \".html\"\n",
    "\n",
    "    data = [pyo.plot(fig, filename=f_name, auto_open=False), base_df, latest_df, df_baseline_full, df_run_full, baseline_ver, latest_ver, fig]\n",
    "\n",
    "    #return pyo.plot(fig, filename=f_name, auto_open=False), base_df, latest_df\n",
    "    return data"
   ]
  },
  {
   "cell_type": "markdown",
   "metadata": {
    "collapsed": true
   },
   "source": [
    "## Chart 4 - Sustained Multi-Threaded Random Read Tests by Block Size\n",
    "\n"
   ]
  },
  {
   "cell_type": "code",
   "execution_count": 25,
   "metadata": {
    "collapsed": true
   },
   "outputs": [],
   "source": [
    "test_name = \"Sustained Multi-Threaded Random Read Tests by Block Size\"\n",
    "chart_path, base_df, latest_df, df_baseline_full, df_run_full, baseline_version, latest_version, fig = iops_bs(test_name = test_name,\n",
    "                                                                                 chart_title=\"Sustained Multi-Threaded Random Read Tests by Block Size\",\n",
    "                                                                                 all_tests=all_runs)\n",
    "test_name = test_name + \"_IOPS\"\n",
    "results[test_name] = [chart_path, base_df, latest_df, df_baseline_full, df_run_full, baseline_version, latest_version, fig]\n",
    "a = results[test_name]"
   ]
  },
  {
   "cell_type": "markdown",
   "metadata": {},
   "source": [
    "## Chart 5 - Sustained 4KB Random mixed 50% Write Tests by Threads\n",
    "\n"
   ]
  },
  {
   "cell_type": "code",
   "execution_count": 26,
   "metadata": {
    "collapsed": true
   },
   "outputs": [],
   "source": [
    "test_name = \"Sustained 4KB Random mixed 50% Write Tests by Threads\"\n",
    "chart_path, base_df, latest_df, df_baseline_full, df_run_full, baseline_version, latest_version, fig = iops_qd(test_name = test_name,\n",
    "                                                                                 chart_title=\"Sustained Random 4K Mixed Read 50 percent\",\n",
    "                                                                                 all_tests=all_runs)\n",
    "test_name = test_name + \"_IOPS\"\n",
    "results[test_name] = [chart_path, base_df, latest_df, df_baseline_full, df_run_full, baseline_version, latest_version, fig]\n",
    "a = results[test_name]"
   ]
  },
  {
   "cell_type": "markdown",
   "metadata": {},
   "source": [
    "## Chart 6 - Sustained 4K Random Read\n",
    "\n"
   ]
  },
  {
   "cell_type": "code",
   "execution_count": 27,
   "metadata": {
    "collapsed": true
   },
   "outputs": [],
   "source": [
    "test_name = \"Sustained 4KB Random Read Tests by Number of Threads\"\n",
    "chart_path, base_df, latest_df, df_baseline_full, df_run_full, baseline_version, latest_version, fig = iops_qd(test_name = test_name,\n",
    "                                                                                 chart_title=\"Sustained 4K Random Read\",\n",
    "                                                                                 all_tests=all_runs)\n",
    "test_name = test_name + \"_IOPS\"\n",
    "results[test_name] = [chart_path, base_df, latest_df, df_baseline_full, df_run_full, baseline_version, latest_version, fig]"
   ]
  },
  {
   "cell_type": "markdown",
   "metadata": {},
   "source": [
    "## Chart 7 - Sustained 4K Random Write\n"
   ]
  },
  {
   "cell_type": "code",
   "execution_count": 28,
   "metadata": {
    "collapsed": true
   },
   "outputs": [],
   "source": [
    "test_name = \"Sustained 4KB Random Write Tests by Number of Threads\"\n",
    "chart_path, base_df, latest_df, df_baseline_full, df_run_full, baseline_version, latest_version, fig = iops_qd(test_name = test_name,\n",
    "                                                                                 chart_title=\"Sustained 4K Random Write\",\n",
    "                                                                                 all_tests=all_runs)\n",
    "test_name = test_name + \"_IOPS\"\n",
    "results[test_name] = [chart_path, base_df, latest_df, df_baseline_full, df_run_full, baseline_version, latest_version, fig]"
   ]
  },
  {
   "cell_type": "markdown",
   "metadata": {},
   "source": [
    "# Latency Charts"
   ]
  },
  {
   "cell_type": "code",
   "execution_count": 29,
   "metadata": {
    "collapsed": true
   },
   "outputs": [],
   "source": [
    "def lat_qd(test_name, chart_title, all_tests):\n",
    "\n",
    "    _, latest_version = version_check(all_tests)\n",
    "\n",
    "    data =[]\n",
    "    for test in all_tests:\n",
    "        num = 1\n",
    "        if test == \"baseline\":\n",
    "            df_1 = all_tests[test][1]\n",
    "            df_1_version = all_tests[test][0] + \"(Baseline)\"\n",
    "            baseline_ver = df_1_version\n",
    "\n",
    "\n",
    "            if \"write\" in test_name.lower():\n",
    "                col = \"Write Latency (us)\"\n",
    "            else:\n",
    "                col = \"Read Latency (us)\"\n",
    "\n",
    "            df_1 = df_1[df_1[\"Test_Name\"] == test_name]\n",
    "            df_1.index = range(1, len(df_1.index)+1)\n",
    "\n",
    "            df_baseline_full = df_1.copy()\n",
    "\n",
    "            df_1 = df_1[[\"Threads\", \"Appliance_CPU_Utilization\", \"Appliance_Memory_Utilization\", col]]\n",
    "\n",
    "\n",
    "            # Adding Data\n",
    "            x_qd = [str(i) for i in df_1[\"Threads\"]]\n",
    "            y1_df1_LAT = df_1[col]\n",
    "            y2_df1_CPU = df_1[\"Appliance_CPU_Utilization\"]\n",
    "            y3_df1_Mem = df_1[\"Appliance_Memory_Utilization\"]\n",
    "\n",
    "\n",
    "            trace0 = go.Scatter(x = x_qd,\n",
    "                                y = y1_df1_LAT,\n",
    "                                name = df_1_version,\n",
    "                                line = dict(width = 4),\n",
    "                                hoverlabel = { \"namelength\" : -1},\n",
    "                                cliponaxis = False)\n",
    "\n",
    "            trace1 = go.Scatter(x = x_qd,\n",
    "                                y = y2_df1_CPU,\n",
    "                                name = \"CPU Utilization \" + df_1_version,\n",
    "                                mode='markers',\n",
    "                                hoverlabel = { \"namelength\" : -1},\n",
    "                                cliponaxis = False,\n",
    "                                yaxis='y2')\n",
    "\n",
    "            trace2 = go.Scatter(x = x_qd,\n",
    "                                y = y3_df1_Mem,\n",
    "                                name = \"Memory Utilization \" + df_1_version,\n",
    "                                mode='markers',\n",
    "                                hoverlabel = { \"namelength\" : -1},\n",
    "                                cliponaxis = False,\n",
    "                                yaxis='y2')\n",
    "\n",
    "            data.append(trace0)\n",
    "            data.append(trace1)\n",
    "            data.append(trace2)\n",
    "\n",
    "            base_df = df_1.copy()\n",
    "\n",
    "        else:\n",
    "\n",
    "            df_run = all_tests[test][1]\n",
    "            df_run_version = all_tests[test][0]\n",
    "\n",
    "            if \"write\" in test_name.lower():\n",
    "                col = \"Write Latency (us)\"\n",
    "            else:\n",
    "                col = \"Read Latency (us)\"\n",
    "\n",
    "            df_run = df_run[df_run[\"Test_Name\"] == test_name]\n",
    "            df_run.index = range(1, len(df_run.index)+1)\n",
    "\n",
    "            df_run_full = df_run.copy()\n",
    "\n",
    "            df_run = df_run[[\"Threads\", \"IOPS\", \"Appliance_CPU_Utilization\", \"Appliance_Memory_Utilization\", col]]\n",
    "\n",
    "\n",
    "            # Adding Data\n",
    "            x_qd = [str(i) for i in df_run[\"Threads\"]]\n",
    "\n",
    "            y1_df_run_LAT = df_run[col]\n",
    "            y2_df_run_CPU = df_run[\"Appliance_CPU_Utilization\"]\n",
    "            y3_df_run_Mem = df_run[\"Appliance_Memory_Utilization\"]\n",
    "\n",
    "            if df_run_version == latest_version:\n",
    "                df_run_version += \"(Latest)\"\n",
    "                latest_df = df_run.copy()\n",
    "                latest_ver = df_run_version\n",
    "\n",
    "            trace0 = go.Scatter(x = x_qd,\n",
    "                                y = y1_df_run_LAT,\n",
    "                                name = df_run_version,\n",
    "                                line = dict(width = 4),\n",
    "                                hoverlabel = { \"namelength\" : -1},\n",
    "                                cliponaxis = False)\n",
    "\n",
    "            trace1 = go.Scatter(x = x_qd,\n",
    "                                y = y2_df_run_CPU,\n",
    "                                name = \"CPU Utilization \" + df_run_version,\n",
    "                                mode='markers',\n",
    "                                hoverlabel = { \"namelength\" : -1},\n",
    "                                cliponaxis = False,\n",
    "                                yaxis='y2')\n",
    "\n",
    "            trace2 = go.Scatter(x = x_qd,\n",
    "                                y = y3_df_run_Mem,\n",
    "                                name = \"Memory Utilization \" + df_run_version,\n",
    "                                mode='markers',\n",
    "                                hoverlabel = { \"namelength\" : -1},\n",
    "                                cliponaxis = False,\n",
    "                                yaxis='y2')\n",
    "\n",
    "            data.append(trace0)\n",
    "            data.append(trace1)\n",
    "            data.append(trace2)\n",
    "\n",
    "\n",
    "    layout = go.Layout(title = chart_title,\n",
    "                       xaxis = dict(title = \"Queue Depth\"),\n",
    "                       yaxis = dict(title = col ),\n",
    "                       yaxis2=dict(title='Appliance Resource Utilization (in %)',\n",
    "                        titlefont=dict(\n",
    "                            color='rgb(148, 103, 189)'\n",
    "                        ),\n",
    "                        tickfont=dict(\n",
    "                            color='rgb(148, 103, 189)'\n",
    "                        ),\n",
    "                        overlaying='y',\n",
    "                        side='right'\n",
    "                    ))\n",
    "\n",
    "\n",
    "    fig = dict(data=data, layout=layout)\n",
    "\n",
    "    f_name = \"LAT_\" + chart_title.replace(\" \", \"_\") + \".html\"\n",
    "\n",
    "    data = [pyo.plot(fig, filename=f_name, auto_open=False), base_df, latest_df, df_baseline_full, df_run_full, baseline_ver, latest_ver, fig]\n",
    "\n",
    "    #return pyo.plot(fig, filename=f_name, auto_open=False), base_df, latest_df\n",
    "    return data"
   ]
  },
  {
   "cell_type": "markdown",
   "metadata": {},
   "source": [
    "## Chart 8 - Latency Test Sustained 4KB Random Read Tests"
   ]
  },
  {
   "cell_type": "code",
   "execution_count": 30,
   "metadata": {
    "collapsed": true
   },
   "outputs": [],
   "source": [
    "test_name = \"Latency Test Sustained 4KB Random Read Tests by Number of Threads\"\n",
    "chart_path, base_df, latest_df, df_baseline_full, df_run_full, baseline_version, latest_version, fig = lat_qd(test_name = test_name,\n",
    "                                                                                chart_title=\"Latency Test Sustained 4KB Random Read Tests by Number of Threads\",\n",
    "                                                                                all_tests=all_runs)\n",
    "\n",
    "test_name = test_name + \"_LAT\"\n",
    "results[test_name] = [chart_path, base_df, latest_df, df_baseline_full, df_run_full, baseline_version, latest_version, fig]\n"
   ]
  },
  {
   "cell_type": "markdown",
   "metadata": {},
   "source": [
    "## Chart 9 - Latency Test Sustained 4KB Random Read Tests"
   ]
  },
  {
   "cell_type": "code",
   "execution_count": 31,
   "metadata": {
    "collapsed": true
   },
   "outputs": [],
   "source": [
    "test_name = \"Latency Test Sustained 4KB Random Write Tests by Number of Threads\"\n",
    "\n",
    "chart_path, base_df, latest_df, df_baseline_full, df_run_full, baseline_version, latest_version, fig = lat_qd(test_name = test_name,\n",
    "                                                                                chart_title=\"Latency Test Sustained 4KB Random Write Tests by Number of Threads\",\n",
    "                                                                                all_tests=all_runs)\n",
    "test_name = test_name + \"_LAT\"\n",
    "results[test_name] = [chart_path, base_df, latest_df, df_baseline_full, df_run_full, baseline_version, latest_version, fig]\n"
   ]
  },
  {
   "cell_type": "markdown",
   "metadata": {},
   "source": [
    "# Regression Calculator"
   ]
  },
  {
   "cell_type": "code",
   "execution_count": null,
   "metadata": {
    "collapsed": true
   },
   "outputs": [],
   "source": []
  },
  {
   "cell_type": "code",
   "execution_count": 32,
   "metadata": {
    "collapsed": true
   },
   "outputs": [],
   "source": [
    "regression_percent = -10\n",
    "exe_summary = OrderedDict({\"Bandwidth\": [],\n",
    "                           \"Latency\": [],\n",
    "                           \"IOPS\": [],\n",
    "                           \"Latest Version\": \"\",\n",
    "                           \"Baseline Version\": \"\",\n",
    "                           \"Date\": \"\"})\n"
   ]
  },
  {
   "cell_type": "code",
   "execution_count": null,
   "metadata": {
    "collapsed": true
   },
   "outputs": [],
   "source": []
  },
  {
   "cell_type": "code",
   "execution_count": 33,
   "metadata": {
    "collapsed": true
   },
   "outputs": [],
   "source": [
    "def bw_reg_chk(test_name, df_base, df_current, base_version, latest_version):\n",
    "    \n",
    "    global exe_summary, regression_percent\n",
    "    \n",
    "    df = df_current.copy()\n",
    "    df[\"Regression_Percent\"] = (df_current[\"Bandwidth (MB/s)\"] - df_base[\"Bandwidth (MB/s)\"]) / df_base[\"Bandwidth (MB/s)\"] * 100\n",
    "    \n",
    "    df_regression = df[df[\"Regression_Percent\"] < regression_percent]\n",
    "\n",
    "    if len(df_regression.index) == 0:\n",
    "        pass \n",
    "    \n",
    "    else:\n",
    "        for index, row in df_regression.iterrows():\n",
    "            bs = row[\"Block Size\"]\n",
    "            reg_p = int(row[\"Regression_Percent\"])\n",
    "            msg = \"{}% regression is observed for the test '{}' for the Block_Size of {}\".format(abs(reg_p), test_name,bs)\n",
    "            exe_summary[\"Bandwidth\"].append(msg)\n",
    "        \n",
    "    return df_regression\n",
    "\n",
    "\n",
    "    \n"
   ]
  },
  {
   "cell_type": "code",
   "execution_count": 34,
   "metadata": {
    "collapsed": true
   },
   "outputs": [],
   "source": [
    "def iops_qd_reg_chk(test_name, df_base, df_current, base_version, latest_version):\n",
    "    \n",
    "    global exe_summary, regression_percent\n",
    "    \n",
    "    df = df_current.copy()\n",
    "    df[\"Regression_Percent\"] = (df_current[\"IOPS\"] - df_base[\"IOPS\"]) / df_base[\"IOPS\"] * 100\n",
    "    \n",
    "    df_regression = df[df[\"Regression_Percent\"] < regression_percent]\n",
    "\n",
    "    if len(df_regression.index) == 0:\n",
    "        #exe_summary[\"IOPS\"].append(\"No regression for the test '{}'\".format(test_name))\n",
    "        pass \n",
    "    \n",
    "    else:\n",
    "        for index, row in df_regression.iterrows():\n",
    "            thread = row[\"Threads\"]\n",
    "            reg_p = int(row[\"Regression_Percent\"])\n",
    "            msg = \"{}% regression is observed for the test '{}' with '{}' Threads \".format(abs(reg_p), test_name,thread)\n",
    "            exe_summary[\"IOPS\"].append(msg)\n",
    "        \n",
    "    return df_regression"
   ]
  },
  {
   "cell_type": "code",
   "execution_count": 35,
   "metadata": {
    "collapsed": true
   },
   "outputs": [],
   "source": [
    "def iops_bs_reg_chk(test_name, df_base, df_current, base_version, latest_version):\n",
    "    \n",
    "    global exe_summary, regression_percent, bs_str\n",
    "    \n",
    "    df = df_current.copy()\n",
    "    df[\"Regression_Percent\"] = (df_current[\"IOPS\"] - df_base[\"IOPS\"]) / df_base[\"IOPS\"] * 100\n",
    "    \n",
    "    df_regression = df[df[\"Regression_Percent\"] < regression_percent]\n",
    "\n",
    "    if len(df_regression.index) == 0:\n",
    "        #exe_summary[\"IOPS\"].append(\"No regression for the test '{}'\".format(test_name))\n",
    "        pass \n",
    "        \n",
    "    else:\n",
    "        for index, row in df_regression.iterrows():\n",
    "            bs = row[\"Block Size\"]\n",
    "            reg_p = int(row[\"Regression_Percent\"])\n",
    "            msg = \"{}% regression is observed for the test '{}' for the Block_Size of {}\".format(abs(reg_p), test_name,bs)\n",
    "            exe_summary[\"IOPS\"].append(msg)\n",
    "        \n",
    "    return df_regression\n",
    "    "
   ]
  },
  {
   "cell_type": "code",
   "execution_count": 36,
   "metadata": {
    "collapsed": true
   },
   "outputs": [],
   "source": [
    "def lat_reg_chk(test_name, df_base, df_current, base_version, latest_version):\n",
    "    \n",
    "    global exe_summary, regression_percent\n",
    "    \n",
    "    if \"write\" in test_name.lower():\n",
    "        col = \"Write Latency (us)\"\n",
    "    else:\n",
    "        col = \"Read Latency (us)\"\n",
    "    \n",
    "    df = df_current.copy()\n",
    "    df[\"Regression_Percent\"] = (df_current[col] - df_base[col]) / df_base[col] * 100\n",
    "    \n",
    "    df_regression = df[df[\"Regression_Percent\"] < regression_percent]\n",
    "\n",
    "    if len(df_regression.index) == 0:\n",
    "        #exe_summary[\"Latency\"].append(\"No regression for the test '{}'\".format(test_name))\n",
    "        pass \n",
    "        \n",
    "    else:\n",
    "        for index, row in df_regression.iterrows():\n",
    "            threads = row[\"Threads\"]\n",
    "            reg_p = int(row[\"Regression_Percent\"])\n",
    "            msg = \"{}% regression is observed for the test '{}' with '{}' Threads \".format(abs(reg_p), test_name,threads)\n",
    "            exe_summary[\"Latency\"].append(msg)\n",
    "        \n",
    "    return df_regression"
   ]
  },
  {
   "cell_type": "code",
   "execution_count": 39,
   "metadata": {
    "scrolled": true
   },
   "outputs": [
    {
     "data": {
      "text/plain": [
       "dict_keys(['Sustained Multi-Threaded Sequential Read Tests by Block Size_BW', 'Sustained Multi-Threaded Random Read Tests by Block Size_BW', 'Sequential Write Tests with Queue Depth=1 by Block Size_BW', 'Sustained Multi-Threaded Random Read Tests by Block Size_IOPS', 'Sustained 4KB Random mixed 50% Write Tests by Threads_IOPS', 'Sustained 4KB Random Read Tests by Number of Threads_IOPS', 'Sustained 4KB Random Write Tests by Number of Threads_IOPS', 'Latency Test Sustained 4KB Random Read Tests by Number of Threads_LAT', 'Latency Test Sustained 4KB Random Write Tests by Number of Threads_LAT'])"
      ]
     },
     "execution_count": 39,
     "metadata": {},
     "output_type": "execute_result"
    }
   ],
   "source": [
    "results.keys()"
   ]
  },
  {
   "cell_type": "code",
   "execution_count": null,
   "metadata": {
    "collapsed": true
   },
   "outputs": [],
   "source": []
  },
  {
   "cell_type": "code",
   "execution_count": 40,
   "metadata": {
    "collapsed": true
   },
   "outputs": [],
   "source": [
    "from collections import OrderedDict\n",
    "\n",
    "# 0 : Chart path\n",
    "# 1 : baseline_df\n",
    "# 2 : latest_df\n",
    "# 3 : full_baseline_df\n",
    "# 4 : full_latest_df\n",
    "# 5 : baseline_version\n",
    "# 6 : latest_version \n",
    "# 7 : plotly_fig object\n",
    "\n",
    "\n",
    "def gen_summary(results):\n",
    "    global exe_summary\n",
    "\n",
    "    for data in results:\n",
    "        if data.endswith(\"_BW\"):\n",
    "            test_name = data.split(\"_\")[0]\n",
    "            arg = test_name, results[data][1], results[data][2], results[data][5], results[data][6]\n",
    "            bw_reg_chk(*arg)\n",
    "\n",
    "        elif data.endswith(\"_IOPS\"):\n",
    "            test_name = data.split(\"_\")[0]\n",
    "            arg = test_name, results[data][1], results[data][2], results[data][5], results[data][6]\n",
    "            if \"block size\" in data.lower():\n",
    "                iops_bs_reg_chk(*arg)\n",
    "            else:\n",
    "                iops_qd_reg_chk(*arg)\n",
    "\n",
    "        else:\n",
    "            test_name = data.split(\"_\")[0]\n",
    "            arg = test_name, results[data][1], results[data][2], results[data][5], results[data][6]\n",
    "            lat_reg_chk(*arg)\n",
    "\n",
    "        exe_summary[\"Latest Version\"] = arg[-1]\n",
    "        exe_summary[\"Baseline Version\"] = arg[-2]\n",
    "        now = datetime.datetime.now()\n",
    "        now_str = now.strftime(\"%Y-%m-%d %H:%M\")\n",
    "        exe_summary[\"Date\"] = now_str\n",
    "\n",
    "    summary = exe_summary\n",
    "\n",
    "    return summary\n"
   ]
  },
  {
   "cell_type": "code",
   "execution_count": 41,
   "metadata": {},
   "outputs": [
    {
     "data": {
      "text/plain": [
       "OrderedDict([('Bandwidth', []),\n",
       "             ('Latency', []),\n",
       "             ('IOPS', []),\n",
       "             ('Latest Version', ''),\n",
       "             ('Baseline Version', ''),\n",
       "             ('Date', '')])"
      ]
     },
     "execution_count": 41,
     "metadata": {},
     "output_type": "execute_result"
    }
   ],
   "source": [
    "exe_summary"
   ]
  },
  {
   "cell_type": "code",
   "execution_count": 42,
   "metadata": {
    "collapsed": true
   },
   "outputs": [],
   "source": [
    "summary = gen_summary(results)"
   ]
  },
  {
   "cell_type": "code",
   "execution_count": 43,
   "metadata": {
    "scrolled": false
   },
   "outputs": [
    {
     "data": {
      "text/plain": [
       "OrderedDict([('Bandwidth',\n",
       "              [\"13% regression is observed for the test 'Sustained Multi-Threaded Random Read Tests by Block Size' for the Block_Size of 16K\",\n",
       "               \"21% regression is observed for the test 'Sustained Multi-Threaded Random Read Tests by Block Size' for the Block_Size of 32K\",\n",
       "               \"22% regression is observed for the test 'Sustained Multi-Threaded Random Read Tests by Block Size' for the Block_Size of 64K\",\n",
       "               \"25% regression is observed for the test 'Sustained Multi-Threaded Random Read Tests by Block Size' for the Block_Size of 128K\"]),\n",
       "             ('Latency', []),\n",
       "             ('IOPS',\n",
       "              [\"13% regression is observed for the test 'Sustained Multi-Threaded Random Read Tests by Block Size' for the Block_Size of 16K\",\n",
       "               \"21% regression is observed for the test 'Sustained Multi-Threaded Random Read Tests by Block Size' for the Block_Size of 32K\",\n",
       "               \"22% regression is observed for the test 'Sustained Multi-Threaded Random Read Tests by Block Size' for the Block_Size of 64K\",\n",
       "               \"25% regression is observed for the test 'Sustained Multi-Threaded Random Read Tests by Block Size' for the Block_Size of 128K\"]),\n",
       "             ('Latest Version', '3.7.10435(Latest)'),\n",
       "             ('Baseline Version', '3.6.10307(Baseline)'),\n",
       "             ('Date', '2018-05-14 11:47')])"
      ]
     },
     "execution_count": 43,
     "metadata": {},
     "output_type": "execute_result"
    }
   ],
   "source": [
    "summary"
   ]
  },
  {
   "cell_type": "markdown",
   "metadata": {},
   "source": [
    "# Dashboard"
   ]
  },
  {
   "cell_type": "code",
   "execution_count": 44,
   "metadata": {
    "collapsed": true
   },
   "outputs": [],
   "source": [
    "import argparse\n",
    "import json\n",
    "import os\n",
    "import dash_core_components as dcc \n",
    "import dash_html_components as html \n",
    "from collections import OrderedDict\n",
    "from pprint import pprint as pp\n",
    "\n",
    "\n",
    "import Chart_Gen\n",
    "import Regression_Cal"
   ]
  },
  {
   "cell_type": "code",
   "execution_count": null,
   "metadata": {
    "collapsed": true
   },
   "outputs": [],
   "source": []
  }
 ],
 "metadata": {
  "kernelspec": {
   "display_name": "Python 3",
   "language": "python",
   "name": "python3"
  },
  "language_info": {
   "codemirror_mode": {
    "name": "ipython",
    "version": 3
   },
   "file_extension": ".py",
   "mimetype": "text/x-python",
   "name": "python",
   "nbconvert_exporter": "python",
   "pygments_lexer": "ipython3",
   "version": "3.6.3"
  }
 },
 "nbformat": 4,
 "nbformat_minor": 2
}
