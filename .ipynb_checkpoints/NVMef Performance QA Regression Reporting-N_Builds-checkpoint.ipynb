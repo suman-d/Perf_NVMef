{
 "cells": [
  {
   "cell_type": "code",
   "execution_count": 1,
   "metadata": {
    "collapsed": true
   },
   "outputs": [],
   "source": [
    "import os\n",
    "import glob\n",
    "import pandas as pd\n",
    "import plotly.offline as pyo\n",
    "import plotly.graph_objs as go"
   ]
  },
  {
   "cell_type": "markdown",
   "metadata": {},
   "source": [
    "# Baseline Result(One)"
   ]
  },
  {
   "cell_type": "code",
   "execution_count": 2,
   "metadata": {
    "collapsed": true
   },
   "outputs": [],
   "source": [
    "pwd= os.getcwd()\n",
    "result_folder_baseline = os.path.join(pwd, \"Results_baseline_abstract_3.6.10307_2018-05-07_12-30-47\")\n"
   ]
  },
  {
   "cell_type": "code",
   "execution_count": 3,
   "metadata": {},
   "outputs": [
    {
     "data": {
      "text/plain": [
       "['.ipynb_checkpoints',\n",
       " 'BW_Sequential_Write_Tests_with_Queue_Depth_1_by_Block_Size.html',\n",
       " 'BW_Sustained_Multi-Threaded_Random_Read_Tests_by_Block_Size.html',\n",
       " 'BW_Sustained_Multi-Threaded_Sequential_Read_Tests_by_Block_Size.html',\n",
       " 'DataCleaning.ipynb',\n",
       " 'IOPS_Sustained_4K_Random_Read.html',\n",
       " 'IOPS_Sustained_4K_Random_Write.html',\n",
       " 'IOPS_Sustained_Multi-Threaded_Random_Read_Tests_by_Block_Size.html',\n",
       " 'IOPS_Sustained_Random_4K_Mixed_Read_50_percent.html',\n",
       " 'LAT_Latency_Test_Sustained_4KB_Random_Read_Tests_by_Number_of_Threads.html',\n",
       " 'LAT_Latency_Test_Sustained_4KB_Random_Write_Tests_by_Number_of_Threads.html',\n",
       " 'NVMef Performance QA Regression Reporting-N_Builds.ipynb',\n",
       " 'NVMef Performance QA Regression Reporting.ipynb',\n",
       " 'perf_tool',\n",
       " 'Post_Test_Data_Collecting_Cleaning .ipynb',\n",
       " 'Results_baseline_abstract_3.6.10307_2018-05-07_12-30-47',\n",
       " 'Results_build_abstract_3.7.10408_2018-05-05_22-07-42',\n",
       " 'Results_build_abstract_3.7.10409_2018-05-08_11-01-54',\n",
       " 'Untitled.ipynb']"
      ]
     },
     "execution_count": 3,
     "metadata": {},
     "output_type": "execute_result"
    }
   ],
   "source": [
    "os.listdir(os.getcwd())"
   ]
  },
  {
   "cell_type": "markdown",
   "metadata": {},
   "source": [
    "# Build Results(One or more)"
   ]
  },
  {
   "cell_type": "code",
   "execution_count": 4,
   "metadata": {
    "collapsed": true
   },
   "outputs": [],
   "source": [
    "result_folder_build_1 = os.path.join(pwd, \"Results_build_abstract_3.7.10409_2018-05-08_11-01-54\")\n",
    "result_folder_build_2 = os.path.join(pwd, \"Results_build_abstract_3.7.10408_2018-05-05_22-07-42\")\n",
    "\n",
    "# Like this we can have result_folder_build_3, result_folder_build_4, result_folder_build_n"
   ]
  },
  {
   "cell_type": "markdown",
   "metadata": {},
   "source": [
    "# Loading the DataFrame for Baseline and Build"
   ]
  },
  {
   "cell_type": "code",
   "execution_count": 5,
   "metadata": {},
   "outputs": [],
   "source": [
    "def results_df(*argv):\n",
    "\n",
    "    runs_dict = {}\n",
    "    num = 1\n",
    "    for f in argv:\n",
    "        f_name = os.path.basename(f)\n",
    "        _ = f_name.lower().split(\"_\")\n",
    "        if \"baseline\" in _:\n",
    "            result_file = os.path.join(f, \"final.csv\")\n",
    "            df = pd.read_csv(result_file)\n",
    "            runs_dict[\"baseline\"] = [_[3], df]\n",
    "\n",
    "          \n",
    "        else:\n",
    "            k = \"build_\" + str(num)\n",
    "            result_file = os.path.join(f, \"final.csv\")\n",
    "            df = pd.read_csv(result_file)\n",
    "            runs_dict[k] = [_[3], df]\n",
    "            num +=1\n",
    "        \n",
    "    \n",
    "    return runs_dict\n",
    "        \n",
    "    "
   ]
  },
  {
   "cell_type": "code",
   "execution_count": 6,
   "metadata": {},
   "outputs": [],
   "source": [
    "all_runs = results_df(result_folder_baseline, result_folder_build_1, result_folder_build_2)"
   ]
  },
  {
   "cell_type": "code",
   "execution_count": 7,
   "metadata": {},
   "outputs": [
    {
     "data": {
      "text/plain": [
       "dict_keys(['baseline', 'build_1', 'build_2'])"
      ]
     },
     "execution_count": 7,
     "metadata": {},
     "output_type": "execute_result"
    }
   ],
   "source": [
    "all_runs.keys()"
   ]
  },
  {
   "cell_type": "markdown",
   "metadata": {},
   "source": [
    "# Bandwidth Charts"
   ]
  },
  {
   "cell_type": "code",
   "execution_count": 8,
   "metadata": {
    "collapsed": true
   },
   "outputs": [],
   "source": [
    "def bandwidth_blocksize(test_name, chart_title, all_tests):\n",
    "    \n",
    "    data = []\n",
    "    bs_str = {  512: \"512\",\n",
    "                1024: \"1K\",\n",
    "                2048: \"2K\",\n",
    "                4096: \"4K\",\n",
    "                8192: \"8K\",\n",
    "                16384: \"16K\",\n",
    "                32768: \"32K\",\n",
    "                65536: \"64K\",\n",
    "                131072: \"128K\"\n",
    "             }\n",
    "    \n",
    "    for test in all_tests:\n",
    "        num = 1\n",
    "        if test == \"baseline\":\n",
    "            df_1 = all_tests[test][1]\n",
    "            df_1_version = all_tests[test][0] + \"(Baseline)\" \n",
    "            \n",
    "            df_1 = df_1[df_1[\"Test_Name\"] == test_name]\n",
    "            df_1.index = range(1, len(df_1.index)+1)\n",
    "            df_1 = df_1[[\"Block Size\", \"Bandwidth (MB/s)\", \"Appliance_CPU_Utilization\", \"Appliance_Memory_Utilization\"]]\n",
    "            df_1[\"Block Size\"] = [ bs_str[i] for i in df_1[\"Block Size\"]]\n",
    "            \n",
    "            # Adding Data \n",
    "            x_block_size = [str(i) for i in df_1[\"Block Size\"]]\n",
    "\n",
    "            y1_df1_BW = df_1[\"Bandwidth (MB/s)\"]\n",
    "            y2_df1_CPU = df_1[\"Appliance_CPU_Utilization\"]\n",
    "            y3_df1_Mem = df_1[\"Appliance_Memory_Utilization\"]\n",
    "    \n",
    "    \n",
    "            trace0 = go.Scatter(x = x_block_size,\n",
    "                                y = y1_df1_BW,\n",
    "                                name = df_1_version,\n",
    "                                line = dict(width = 4),\n",
    "                                hoverlabel = { \"namelength\" : -1}, \n",
    "                                cliponaxis = False)\n",
    "        \n",
    "            trace1 = go.Scatter(x = x_block_size,\n",
    "                                y = y2_df1_CPU,\n",
    "                                name = \"CPU Utilization \" + df_1_version,\n",
    "                                mode='markers',\n",
    "                                hoverlabel = { \"namelength\" : -1}, \n",
    "                                cliponaxis = False,\n",
    "                                yaxis='y2')\n",
    "\n",
    "            trace2 = go.Scatter(x = x_block_size,\n",
    "                                y = y3_df1_Mem,\n",
    "                                name = \"Memory Utilization \" + df_1_version,\n",
    "                                mode='markers',\n",
    "                                hoverlabel = { \"namelength\" : -1}, \n",
    "                                cliponaxis = False,\n",
    "                                yaxis='y2')\n",
    "            \n",
    "            data.append(trace0)\n",
    "            data.append(trace1)\n",
    "            data.append(trace2)\n",
    "    \n",
    "        else:\n",
    "            \n",
    "            df_run = all_tests[test][1]\n",
    "            df_run_version = all_tests[test][0]\n",
    "            \n",
    "            df_run = df_run[df_run[\"Test_Name\"] == test_name]\n",
    "            df_run.index = range(1, len(df_run.index)+1)\n",
    "            df_run = df_run[[\"Block Size\", \"Bandwidth (MB/s)\", \"Appliance_CPU_Utilization\", \"Appliance_Memory_Utilization\"]]\n",
    "            df_run[\"Block Size\"] = [ bs_str[i] for i in df_run[\"Block Size\"]]\n",
    "            \n",
    "            # Adding Data \n",
    "            x_block_size = [str(i) for i in df_run[\"Block Size\"]]\n",
    "            \n",
    "            y1_df_run_BW = df_run[\"Bandwidth (MB/s)\"]\n",
    "            y2_df_run_CPU = df_run[\"Appliance_CPU_Utilization\"]\n",
    "            y3_df_run_Mem = df_run[\"Appliance_Memory_Utilization\"]\n",
    "\n",
    "            trace0 = go.Scatter(x = x_block_size,\n",
    "                                y = y1_df_run_BW,\n",
    "                                name = df_run_version,\n",
    "                                line = dict(width = 4),\n",
    "                                hoverlabel = { \"namelength\" : -1}, \n",
    "                                cliponaxis = False)\n",
    "        \n",
    "            trace1 = go.Scatter(x = x_block_size,\n",
    "                                y = y2_df_run_CPU,\n",
    "                                name = \"CPU Utilization \" + df_run_version,\n",
    "                                mode='markers',\n",
    "                                hoverlabel = { \"namelength\" : -1}, \n",
    "                                cliponaxis = False,\n",
    "                                yaxis='y2')\n",
    "\n",
    "            trace2 = go.Scatter(x = x_block_size,\n",
    "                                y = y3_df_run_Mem,\n",
    "                                name = \"Memory Utilization \" + df_run_version,\n",
    "                                mode='markers',\n",
    "                                hoverlabel = { \"namelength\" : -1}, \n",
    "                                cliponaxis = False,\n",
    "                                yaxis='y2')\n",
    "            \n",
    "            data.append(trace0)\n",
    "            data.append(trace1)\n",
    "            data.append(trace2)\n",
    "\n",
    "    \n",
    "    layout = go.Layout(title = chart_title, \n",
    "                       xaxis = dict(title = \"Block Size (in Bytes)\"),\n",
    "                       yaxis = dict(title = \"Throughput (in MBps)\" ), \n",
    "                       yaxis2=dict(title='Appliance Resource Utilization (in %)',\n",
    "                        titlefont=dict(\n",
    "                            color='rgb(148, 103, 189)'\n",
    "                        ),\n",
    "                        tickfont=dict(\n",
    "                            color='rgb(148, 103, 189)'\n",
    "                        ),\n",
    "                        overlaying='y',\n",
    "                        side='right'\n",
    "                    ))\n",
    "    \n",
    "\n",
    "    fig = dict(data=data, layout=layout)\n",
    "    \n",
    "    f_name = \"BW_\" + chart_title.replace(\" \", \"_\") + \".html\"\n",
    "\n",
    "    return pyo.plot(fig, filename=f_name, auto_open=False)"
   ]
  },
  {
   "cell_type": "markdown",
   "metadata": {},
   "source": [
    "## Chart 1 - Sustained Multi-Threaded Sequential Read Tests by Block Size\n"
   ]
  },
  {
   "cell_type": "code",
   "execution_count": 9,
   "metadata": {},
   "outputs": [
    {
     "data": {
      "text/plain": [
       "'file://D:\\\\p_results2\\\\BW_Sustained_Multi-Threaded_Sequential_Read_Tests_by_Block_Size.html'"
      ]
     },
     "execution_count": 9,
     "metadata": {},
     "output_type": "execute_result"
    }
   ],
   "source": [
    "bandwidth_blocksize(test_name=\"Sustained Multi-Threaded Sequential Read Tests by Block Size\",\n",
    "                    chart_title=\"Sustained Multi-Threaded Sequential Read Tests by Block Size\", all_tests=all_runs)"
   ]
  },
  {
   "cell_type": "markdown",
   "metadata": {},
   "source": [
    "## Chart 2 - Sustained Multi-Threaded Random Read Tests by Block Size(QD=256)\n"
   ]
  },
  {
   "cell_type": "code",
   "execution_count": 10,
   "metadata": {},
   "outputs": [
    {
     "data": {
      "text/plain": [
       "'file://D:\\\\p_results2\\\\BW_Sustained_Multi-Threaded_Random_Read_Tests_by_Block_Size.html'"
      ]
     },
     "execution_count": 10,
     "metadata": {},
     "output_type": "execute_result"
    }
   ],
   "source": [
    "bandwidth_blocksize(test_name=\"Sustained Multi-Threaded Random Read Tests by Block Size\",\n",
    "                    chart_title=\"Sustained Multi-Threaded Random Read Tests by Block Size\", all_tests=all_runs)"
   ]
  },
  {
   "cell_type": "markdown",
   "metadata": {},
   "source": [
    "## Chart 3 - Sequential Write Tests with Queue Depth=1 by Block Size\n"
   ]
  },
  {
   "cell_type": "code",
   "execution_count": 11,
   "metadata": {},
   "outputs": [
    {
     "data": {
      "text/plain": [
       "'file://D:\\\\p_results2\\\\BW_Sequential_Write_Tests_with_Queue_Depth_1_by_Block_Size.html'"
      ]
     },
     "execution_count": 11,
     "metadata": {},
     "output_type": "execute_result"
    }
   ],
   "source": [
    "bandwidth_blocksize(test_name=\"Sequential Write Tests with Queue Depth=1 by Block Size\",\n",
    "                    chart_title=\"Sequential Write Tests with Queue Depth 1 by Block Size\", all_tests=all_runs)\n"
   ]
  },
  {
   "cell_type": "markdown",
   "metadata": {},
   "source": [
    "# IOPS Charts"
   ]
  },
  {
   "cell_type": "code",
   "execution_count": 12,
   "metadata": {
    "collapsed": true
   },
   "outputs": [],
   "source": [
    "def iops_qd(test_name, chart_title, all_tests):\n",
    "\n",
    "    data =[]\n",
    "    for test in all_tests:\n",
    "        num = 1\n",
    "        if test == \"baseline\":\n",
    "            df_1 = all_tests[test][1]\n",
    "            df_1_version = all_tests[test][0] + \"(Baseline)\" \n",
    "            \n",
    "            df_1 = df_1[df_1[\"Test_Name\"] == test_name]\n",
    "            df_1.index = range(1, len(df_1.index)+1)\n",
    "            df_1 = df_1[[\"Threads\", \"IOPS\", \"Appliance_CPU_Utilization\", \"Appliance_Memory_Utilization\"]]\n",
    "            \n",
    "            \n",
    "            # Adding Data \n",
    "            x_qd = [str(i) for i in df_1[\"Threads\"]]\n",
    "            y1_df1_IOPS = df_1[\"IOPS\"]\n",
    "            y2_df1_CPU = df_1[\"Appliance_CPU_Utilization\"]\n",
    "            y3_df1_Mem = df_1[\"Appliance_Memory_Utilization\"]\n",
    "    \n",
    "    \n",
    "            trace0 = go.Scatter(x = x_qd,\n",
    "                                y = y1_df1_IOPS,\n",
    "                                name = df_1_version,\n",
    "                                line = dict(width = 4),\n",
    "                                hoverlabel = { \"namelength\" : -1}, \n",
    "                                cliponaxis = False)\n",
    "        \n",
    "            trace1 = go.Scatter(x = x_qd,\n",
    "                                y = y2_df1_CPU,\n",
    "                                name = \"CPU Utilization \" + df_1_version,\n",
    "                                mode='markers',\n",
    "                                hoverlabel = { \"namelength\" : -1}, \n",
    "                                cliponaxis = False,\n",
    "                                yaxis='y2')\n",
    "\n",
    "            trace2 = go.Scatter(x = x_qd,\n",
    "                                y = y3_df1_Mem,\n",
    "                                name = \"Memory Utilization \" + df_1_version,\n",
    "                                mode='markers',\n",
    "                                hoverlabel = { \"namelength\" : -1}, \n",
    "                                cliponaxis = False,\n",
    "                                yaxis='y2')\n",
    "            \n",
    "            data.append(trace0)\n",
    "            data.append(trace1)\n",
    "            data.append(trace2)\n",
    "    \n",
    "        else:\n",
    "            \n",
    "            df_run = all_tests[test][1]\n",
    "            df_run_version = all_tests[test][0]\n",
    "            \n",
    "            df_run = df_run[df_run[\"Test_Name\"] == test_name]\n",
    "            df_run.index = range(1, len(df_run.index)+1)\n",
    "            df_run = df_run[[\"Threads\", \"IOPS\", \"Appliance_CPU_Utilization\", \"Appliance_Memory_Utilization\"]]\n",
    "            \n",
    "            \n",
    "            # Adding Data \n",
    "            x_qd = [str(i) for i in df_1[\"Threads\"]]\n",
    "            \n",
    "            y1_df_run_IOPS = df_run[\"IOPS\"]\n",
    "            y2_df_run_CPU = df_run[\"Appliance_CPU_Utilization\"]\n",
    "            y3_df_run_Mem = df_run[\"Appliance_Memory_Utilization\"]\n",
    "\n",
    "            trace0 = go.Scatter(x = x_qd,\n",
    "                                y = y1_df_run_IOPS,\n",
    "                                name = df_run_version,\n",
    "                                line = dict(width = 4),\n",
    "                                hoverlabel = { \"namelength\" : -1}, \n",
    "                                cliponaxis = False)\n",
    "        \n",
    "            trace1 = go.Scatter(x = x_qd,\n",
    "                                y = y2_df_run_CPU,\n",
    "                                name = \"CPU Utilization \" + df_run_version,\n",
    "                                mode='markers',\n",
    "                                hoverlabel = { \"namelength\" : -1}, \n",
    "                                cliponaxis = False,\n",
    "                                yaxis='y2')\n",
    "\n",
    "            trace2 = go.Scatter(x = x_qd,\n",
    "                                y = y3_df_run_Mem,\n",
    "                                name = \"Memory Utilization \" + df_run_version,\n",
    "                                mode='markers',\n",
    "                                hoverlabel = { \"namelength\" : -1}, \n",
    "                                cliponaxis = False,\n",
    "                                yaxis='y2')\n",
    "            \n",
    "            data.append(trace0)\n",
    "            data.append(trace1)\n",
    "            data.append(trace2)\n",
    "\n",
    "    \n",
    "    layout = go.Layout(title = chart_title, \n",
    "                       xaxis = dict(title = \"Queue Depth\"),\n",
    "                       yaxis = dict(title = \"IOPS\" ), \n",
    "                       yaxis2=dict(title='Appliance Resource Utilization (in %)',\n",
    "                        titlefont=dict(\n",
    "                            color='rgb(148, 103, 189)'\n",
    "                        ),\n",
    "                        tickfont=dict(\n",
    "                            color='rgb(148, 103, 189)'\n",
    "                        ),\n",
    "                        overlaying='y',\n",
    "                        side='right'\n",
    "                    ))\n",
    "    \n",
    "\n",
    "    fig = dict(data=data, layout=layout)\n",
    "    \n",
    "    f_name = \"IOPS_\" + chart_title.replace(\" \", \"_\") + \".html\"\n",
    "\n",
    "    return pyo.plot(fig, filename=f_name, auto_open=False)\n",
    "\n",
    "def iops_bs(test_name, chart_title, all_tests):\n",
    "   \n",
    "    data = []\n",
    "    bs_str = {  512: \"512\",\n",
    "                1024: \"1K\",\n",
    "                2048: \"2K\",\n",
    "                4096: \"4K\",\n",
    "                8192: \"8K\",\n",
    "                16384: \"16K\",\n",
    "                32768: \"32K\",\n",
    "                65536: \"64K\",\n",
    "                131072: \"128K\"\n",
    "             }\n",
    "    \n",
    "    \n",
    "    for test in all_tests:\n",
    "        num = 1\n",
    "        if test == \"baseline\":\n",
    "            df_1 = all_tests[test][1]\n",
    "            df_1_version = all_tests[test][0] + \"(Baseline)\" \n",
    "            \n",
    "            df_1 = df_1[df_1[\"Test_Name\"] == test_name]\n",
    "            df_1.index = range(1, len(df_1.index)+1)\n",
    "            df_1 = df_1[[\"Block Size\", \"IOPS\", \"Appliance_CPU_Utilization\", \"Appliance_Memory_Utilization\"]]\n",
    "            \n",
    "            \n",
    "            # Adding Data \n",
    "            x_qd = [str(i) for i in df_1[\"Block Size\"]]\n",
    "            y1_df1_IOPS = df_1[\"IOPS\"]\n",
    "            y2_df1_CPU = df_1[\"Appliance_CPU_Utilization\"]\n",
    "            y3_df1_Mem = df_1[\"Appliance_Memory_Utilization\"]\n",
    "    \n",
    "    \n",
    "            trace0 = go.Scatter(x = x_qd,\n",
    "                                y = y1_df1_IOPS,\n",
    "                                name = df_1_version,\n",
    "                                line = dict(width = 4),\n",
    "                                hoverlabel = { \"namelength\" : -1}, \n",
    "                                cliponaxis = False)\n",
    "        \n",
    "            trace1 = go.Scatter(x = x_qd,\n",
    "                                y = y2_df1_CPU,\n",
    "                                name = \"CPU Utilization \" + df_1_version,\n",
    "                                mode='markers',\n",
    "                                hoverlabel = { \"namelength\" : -1}, \n",
    "                                cliponaxis = False,\n",
    "                                yaxis='y2')\n",
    "\n",
    "            trace2 = go.Scatter(x = x_qd,\n",
    "                                y = y3_df1_Mem,\n",
    "                                name = \"Memory Utilization \" + df_1_version,\n",
    "                                mode='markers',\n",
    "                                hoverlabel = { \"namelength\" : -1}, \n",
    "                                cliponaxis = False,\n",
    "                                yaxis='y2')\n",
    "            \n",
    "            data.append(trace0)\n",
    "            data.append(trace1)\n",
    "            data.append(trace2)\n",
    "    \n",
    "        else:\n",
    "            \n",
    "            df_run = all_tests[test][1]\n",
    "            df_run_version = all_tests[test][0]\n",
    "            \n",
    "            df_run = df_run[df_run[\"Test_Name\"] == test_name]\n",
    "            df_run.index = range(1, len(df_run.index)+1)\n",
    "            df_run = df_run[[\"Block Size\", \"IOPS\", \"Appliance_CPU_Utilization\", \"Appliance_Memory_Utilization\"]]\n",
    "            \n",
    "            \n",
    "            # Adding Data \n",
    "            x_qd = [str(i) for i in df_1[\"Block Size\"]]\n",
    "            \n",
    "            y1_df_run_IOPS = df_run[\"IOPS\"]\n",
    "            y2_df_run_CPU = df_run[\"Appliance_CPU_Utilization\"]\n",
    "            y3_df_run_Mem = df_run[\"Appliance_Memory_Utilization\"]\n",
    "\n",
    "            trace0 = go.Scatter(x = x_qd,\n",
    "                                y = y1_df_run_IOPS,\n",
    "                                name = df_run_version,\n",
    "                                line = dict(width = 4),\n",
    "                                hoverlabel = { \"namelength\" : -1}, \n",
    "                                cliponaxis = False)\n",
    "        \n",
    "            trace1 = go.Scatter(x = x_qd,\n",
    "                                y = y2_df_run_CPU,\n",
    "                                name = \"CPU Utilization \" + df_run_version,\n",
    "                                mode='markers',\n",
    "                                hoverlabel = { \"namelength\" : -1}, \n",
    "                                cliponaxis = False,\n",
    "                                yaxis='y2')\n",
    "\n",
    "            trace2 = go.Scatter(x = x_qd,\n",
    "                                y = y3_df_run_Mem,\n",
    "                                name = \"Memory Utilization \" + df_run_version,\n",
    "                                mode='markers',\n",
    "                                hoverlabel = { \"namelength\" : -1}, \n",
    "                                cliponaxis = False,\n",
    "                                yaxis='y2')\n",
    "            \n",
    "            data.append(trace0)\n",
    "            data.append(trace1)\n",
    "            data.append(trace2)\n",
    "\n",
    "    \n",
    "    layout = go.Layout(title = chart_title, \n",
    "                       xaxis = dict(title = \"Block Size\"),\n",
    "                       yaxis = dict(title = \"IOPS\" ), \n",
    "                       yaxis2=dict(title='Appliance Resource Utilization (in %)',\n",
    "                        titlefont=dict(\n",
    "                            color='rgb(148, 103, 189)'\n",
    "                        ),\n",
    "                        tickfont=dict(\n",
    "                            color='rgb(148, 103, 189)'\n",
    "                        ),\n",
    "                        overlaying='y',\n",
    "                        side='right'\n",
    "                    ))\n",
    "    \n",
    "\n",
    "    fig = dict(data=data, layout=layout)\n",
    "    \n",
    "    f_name = \"IOPS_\" + chart_title.replace(\" \", \"_\") + \".html\"\n",
    "\n",
    "    return pyo.plot(fig, filename=f_name, auto_open=False)    "
   ]
  },
  {
   "cell_type": "markdown",
   "metadata": {
    "collapsed": true
   },
   "source": [
    "## Chart 4 - Sustained Multi-Threaded Random Read Tests by Block Size\n",
    "\n"
   ]
  },
  {
   "cell_type": "code",
   "execution_count": 13,
   "metadata": {},
   "outputs": [
    {
     "data": {
      "text/plain": [
       "'file://D:\\\\p_results2\\\\IOPS_Sustained_Multi-Threaded_Random_Read_Tests_by_Block_Size.html'"
      ]
     },
     "execution_count": 13,
     "metadata": {},
     "output_type": "execute_result"
    }
   ],
   "source": [
    "iops_bs(test_name = \"Sustained Multi-Threaded Random Read Tests by Block Size\",\n",
    "        chart_title=\"Sustained Multi-Threaded Random Read Tests by Block Size\", all_tests=all_runs)"
   ]
  },
  {
   "cell_type": "markdown",
   "metadata": {},
   "source": [
    "## Chart 5 - Sustained 4KB Random mixed 50% Write Tests by Threads\n",
    "\n"
   ]
  },
  {
   "cell_type": "code",
   "execution_count": 14,
   "metadata": {},
   "outputs": [
    {
     "data": {
      "text/plain": [
       "'file://D:\\\\p_results2\\\\IOPS_Sustained_Random_4K_Mixed_Read_50_percent.html'"
      ]
     },
     "execution_count": 14,
     "metadata": {},
     "output_type": "execute_result"
    }
   ],
   "source": [
    "iops_qd(test_name = \"Sustained 4KB Random mixed 50% Write Tests by Threads\",\n",
    "        chart_title=\"Sustained Random 4K Mixed Read 50 percent\", all_tests=all_runs)"
   ]
  },
  {
   "cell_type": "markdown",
   "metadata": {},
   "source": [
    "## Chart 6 - Sustained 4K Random Read\n",
    "\n"
   ]
  },
  {
   "cell_type": "code",
   "execution_count": 15,
   "metadata": {},
   "outputs": [
    {
     "data": {
      "text/plain": [
       "'file://D:\\\\p_results2\\\\IOPS_Sustained_4K_Random_Read.html'"
      ]
     },
     "execution_count": 15,
     "metadata": {},
     "output_type": "execute_result"
    }
   ],
   "source": [
    "iops_qd(test_name = \"Sustained 4KB Random Read Tests by Number of Threads\",\n",
    "        chart_title=\"Sustained 4K Random Read\", all_tests=all_runs)"
   ]
  },
  {
   "cell_type": "markdown",
   "metadata": {},
   "source": [
    "## Chart 7 - Sustained 4K Random Write\n"
   ]
  },
  {
   "cell_type": "code",
   "execution_count": 16,
   "metadata": {},
   "outputs": [
    {
     "data": {
      "text/plain": [
       "'file://D:\\\\p_results2\\\\IOPS_Sustained_4K_Random_Write.html'"
      ]
     },
     "execution_count": 16,
     "metadata": {},
     "output_type": "execute_result"
    }
   ],
   "source": [
    "iops_qd(test_name = \"Sustained 4KB Random Write Tests by Number of Threads\",\n",
    "        chart_title=\"Sustained 4K Random Write\", all_tests=all_runs)"
   ]
  },
  {
   "cell_type": "markdown",
   "metadata": {},
   "source": [
    "# Latency Charts"
   ]
  },
  {
   "cell_type": "code",
   "execution_count": 17,
   "metadata": {
    "collapsed": true
   },
   "outputs": [],
   "source": [
    "def lat_qd(test_name, chart_title, all_tests):\n",
    "\n",
    "    data =[]\n",
    "    for test in all_tests:\n",
    "        num = 1\n",
    "        if test == \"baseline\":\n",
    "            df_1 = all_tests[test][1]\n",
    "            df_1_version = all_tests[test][0] + \"(Baseline)\" \n",
    "\n",
    "            if \"write\" in test_name.lower():\n",
    "                col = \"Write Latency (us)\"\n",
    "            else:\n",
    "                col = \"Read Latency (us)\"\n",
    "            \n",
    "            df_1 = df_1[df_1[\"Test_Name\"] == test_name]\n",
    "            df_1.index = range(1, len(df_1.index)+1)\n",
    "            df_1 = df_1[[\"Threads\", \"Appliance_CPU_Utilization\", \"Appliance_Memory_Utilization\", col]]\n",
    "            \n",
    "            \n",
    "            # Adding Data \n",
    "            x_qd = [str(i) for i in df_1[\"Threads\"]]\n",
    "            y1_df1_LAT = df_1[col]\n",
    "            y2_df1_CPU = df_1[\"Appliance_CPU_Utilization\"]\n",
    "            y3_df1_Mem = df_1[\"Appliance_Memory_Utilization\"]\n",
    "    \n",
    "    \n",
    "            trace0 = go.Scatter(x = x_qd,\n",
    "                                y = y1_df1_LAT,\n",
    "                                name = df_1_version,\n",
    "                                line = dict(width = 4),\n",
    "                                hoverlabel = { \"namelength\" : -1}, \n",
    "                                cliponaxis = False)\n",
    "        \n",
    "            trace1 = go.Scatter(x = x_qd,\n",
    "                                y = y2_df1_CPU,\n",
    "                                name = \"CPU Utilization \" + df_1_version,\n",
    "                                mode='markers',\n",
    "                                hoverlabel = { \"namelength\" : -1}, \n",
    "                                cliponaxis = False,\n",
    "                                yaxis='y2')\n",
    "\n",
    "            trace2 = go.Scatter(x = x_qd,\n",
    "                                y = y3_df1_Mem,\n",
    "                                name = \"Memory Utilization \" + df_1_version,\n",
    "                                mode='markers',\n",
    "                                hoverlabel = { \"namelength\" : -1}, \n",
    "                                cliponaxis = False,\n",
    "                                yaxis='y2')\n",
    "            \n",
    "            data.append(trace0)\n",
    "            data.append(trace1)\n",
    "            data.append(trace2)\n",
    "    \n",
    "        else:\n",
    "            \n",
    "            df_run = all_tests[test][1]\n",
    "            df_run_version = all_tests[test][0] + \"(Baseline)\" \n",
    "\n",
    "            if \"write\" in test_name.lower():\n",
    "                col = \"Write Latency (us)\"\n",
    "            else:\n",
    "                col = \"Read Latency (us)\"\n",
    "                \n",
    "            df_run = df_run[df_run[\"Test_Name\"] == test_name]\n",
    "            df_run.index = range(1, len(df_run.index)+1)\n",
    "            df_run = df_run[[\"Threads\", \"IOPS\", \"Appliance_CPU_Utilization\", \"Appliance_Memory_Utilization\", col]]\n",
    "            \n",
    "            \n",
    "            # Adding Data \n",
    "            x_qd = [str(i) for i in df_1[\"Threads\"]]\n",
    "            \n",
    "            y1_df_run_LAT = df_run[col]\n",
    "            y2_df_run_CPU = df_run[\"Appliance_CPU_Utilization\"]\n",
    "            y3_df_run_Mem = df_run[\"Appliance_Memory_Utilization\"]\n",
    "\n",
    "            trace0 = go.Scatter(x = x_qd,\n",
    "                                y = y1_df_run_LAT,\n",
    "                                name = df_run_version,\n",
    "                                line = dict(width = 4),\n",
    "                                hoverlabel = { \"namelength\" : -1}, \n",
    "                                cliponaxis = False)\n",
    "        \n",
    "            trace1 = go.Scatter(x = x_qd,\n",
    "                                y = y2_df_run_CPU,\n",
    "                                name = \"CPU Utilization \" + df_run_version,\n",
    "                                mode='markers',\n",
    "                                hoverlabel = { \"namelength\" : -1}, \n",
    "                                cliponaxis = False,\n",
    "                                yaxis='y2')\n",
    "\n",
    "            trace2 = go.Scatter(x = x_qd,\n",
    "                                y = y3_df_run_Mem,\n",
    "                                name = \"Memory Utilization \" + df_run_version,\n",
    "                                mode='markers',\n",
    "                                hoverlabel = { \"namelength\" : -1}, \n",
    "                                cliponaxis = False,\n",
    "                                yaxis='y2')\n",
    "            \n",
    "            data.append(trace0)\n",
    "            data.append(trace1)\n",
    "            data.append(trace2)\n",
    "\n",
    "    \n",
    "    layout = go.Layout(title = chart_title, \n",
    "                       xaxis = dict(title = \"Queue Depth\"),\n",
    "                       yaxis = dict(title = col ), \n",
    "                       yaxis2=dict(title='Appliance Resource Utilization (in %)',\n",
    "                        titlefont=dict(\n",
    "                            color='rgb(148, 103, 189)'\n",
    "                        ),\n",
    "                        tickfont=dict(\n",
    "                            color='rgb(148, 103, 189)'\n",
    "                        ),\n",
    "                        overlaying='y',\n",
    "                        side='right'\n",
    "                    ))\n",
    "    \n",
    "\n",
    "    fig = dict(data=data, layout=layout)\n",
    "    \n",
    "    f_name = \"LAT_\" + chart_title.replace(\" \", \"_\") + \".html\"\n",
    "\n",
    "    return pyo.plot(fig, filename=f_name, auto_open=False)"
   ]
  },
  {
   "cell_type": "markdown",
   "metadata": {},
   "source": [
    "## Chart 8 - Latency Test Sustained 4KB Random Read Tests"
   ]
  },
  {
   "cell_type": "code",
   "execution_count": 18,
   "metadata": {},
   "outputs": [
    {
     "data": {
      "text/plain": [
       "'file://D:\\\\p_results2\\\\LAT_Latency_Test_Sustained_4KB_Random_Read_Tests_by_Number_of_Threads.html'"
      ]
     },
     "execution_count": 18,
     "metadata": {},
     "output_type": "execute_result"
    }
   ],
   "source": [
    "lat_qd(test_name = \"Latency Test Sustained 4KB Random Read Tests by Number of Threads\",\n",
    "        chart_title=\"Latency Test Sustained 4KB Random Read Tests by Number of Threads\", all_tests=all_runs)"
   ]
  },
  {
   "cell_type": "markdown",
   "metadata": {},
   "source": [
    "## Chart 9 - Latency Test Sustained 4KB Random Read Tests"
   ]
  },
  {
   "cell_type": "code",
   "execution_count": 19,
   "metadata": {},
   "outputs": [
    {
     "data": {
      "text/plain": [
       "'file://D:\\\\p_results2\\\\LAT_Latency_Test_Sustained_4KB_Random_Write_Tests_by_Number_of_Threads.html'"
      ]
     },
     "execution_count": 19,
     "metadata": {},
     "output_type": "execute_result"
    }
   ],
   "source": [
    "lat_qd(test_name = \"Latency Test Sustained 4KB Random Write Tests by Number of Threads\",\n",
    "        chart_title=\"Latency Test Sustained 4KB Random Write Tests by Number of Threads\", all_tests=all_runs)"
   ]
  },
  {
   "cell_type": "code",
   "execution_count": null,
   "metadata": {
    "collapsed": true
   },
   "outputs": [],
   "source": []
  }
 ],
 "metadata": {
  "kernelspec": {
   "display_name": "Python 3",
   "language": "python",
   "name": "python3"
  },
  "language_info": {
   "codemirror_mode": {
    "name": "ipython",
    "version": 3
   },
   "file_extension": ".py",
   "mimetype": "text/x-python",
   "name": "python",
   "nbconvert_exporter": "python",
   "pygments_lexer": "ipython3",
   "version": "3.6.3"
  }
 },
 "nbformat": 4,
 "nbformat_minor": 2
}
