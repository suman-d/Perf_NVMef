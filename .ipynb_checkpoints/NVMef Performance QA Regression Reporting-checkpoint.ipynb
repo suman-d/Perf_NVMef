{
 "cells": [
  {
   "cell_type": "code",
   "execution_count": 1,
   "metadata": {
    "collapsed": true
   },
   "outputs": [],
   "source": [
    "import os\n",
    "import glob\n",
    "import pandas as pd\n",
    "import plotly.offline as pyo\n",
    "import plotly.graph_objs as go"
   ]
  },
  {
   "cell_type": "markdown",
   "metadata": {},
   "source": [
    "# Baseline Results(3.6)"
   ]
  },
  {
   "cell_type": "code",
   "execution_count": 3,
   "metadata": {},
   "outputs": [],
   "source": [
    "pwd= os.getcwd()\n",
    "result_folder_baseline = os.path.join(pwd, \"Results_baseline_abstract_3.6.10307_2018-05-07_12-30-47\")\n"
   ]
  },
  {
   "cell_type": "markdown",
   "metadata": {},
   "source": [
    "# Build Result(3.7)"
   ]
  },
  {
   "cell_type": "code",
   "execution_count": 4,
   "metadata": {
    "collapsed": true
   },
   "outputs": [],
   "source": [
    "result_folder_build = os.path.join(pwd, \"Results_build_abstract_3.7.10408_2018-05-08_11-01-54\")"
   ]
  },
  {
   "cell_type": "markdown",
   "metadata": {},
   "source": [
    "# Loading the DataFrame for Baseline and Build"
   ]
  },
  {
   "cell_type": "code",
   "execution_count": 5,
   "metadata": {
    "collapsed": true
   },
   "outputs": [],
   "source": [
    "result_baseline_file = os.path.join(result_folder_baseline, \"final.csv\")\n",
    "result_build_file = os.path.join(result_folder_build, \"final.csv\")"
   ]
  },
  {
   "cell_type": "code",
   "execution_count": 6,
   "metadata": {
    "collapsed": true
   },
   "outputs": [],
   "source": [
    "df_baseline = pd.read_csv(result_baseline_file)\n",
    "df_build = pd.read_csv(result_build_file)"
   ]
  },
  {
   "cell_type": "code",
   "execution_count": 7,
   "metadata": {},
   "outputs": [
    {
     "data": {
      "text/plain": [
       "(62, 21)"
      ]
     },
     "execution_count": 7,
     "metadata": {},
     "output_type": "execute_result"
    }
   ],
   "source": [
    "df_baseline.shape"
   ]
  },
  {
   "cell_type": "code",
   "execution_count": 8,
   "metadata": {},
   "outputs": [
    {
     "data": {
      "text/plain": [
       "(62, 21)"
      ]
     },
     "execution_count": 8,
     "metadata": {},
     "output_type": "execute_result"
    }
   ],
   "source": [
    "df_build.shape"
   ]
  },
  {
   "cell_type": "markdown",
   "metadata": {},
   "source": [
    "# Bandwidth Charts"
   ]
  },
  {
   "cell_type": "code",
   "execution_count": 9,
   "metadata": {},
   "outputs": [],
   "source": [
    "def bandwidth_blocksize(test_name, df_build, df_baseline, build_version, base_version, chart_title):\n",
    "    \n",
    "    bs_str = {  512: \"512\",\n",
    "                1024: \"1K\",\n",
    "                2048: \"2K\",\n",
    "                4096: \"4K\",\n",
    "                8192: \"8K\",\n",
    "                16384: \"16K\",\n",
    "                32768: \"32K\",\n",
    "                65536: \"64K\",\n",
    "                131072: \"128K\"\n",
    "             }\n",
    "    \n",
    "    df_1 = df_build[df_build[\"Test_Name\"] == test_name]\n",
    "    df_1_version = build_version\n",
    "    df_1.index = range(1, len(df_1.index)+1)\n",
    "\n",
    "\n",
    "\n",
    "    df_2 = df_baseline[df_baseline[\"Test_Name\"] == test_name]\n",
    "    df_2_version = base_version\n",
    "    df_2.index = range(1, len(df_2.index)+1)\n",
    "\n",
    "    \n",
    "    df_1 = df_1[[\"Block Size\", \"Bandwidth (MB/s)\", \"Appliance_CPU_Utilization\", \"Appliance_Memory_Utilization\"]]\n",
    "    df_2 = df_2[[\"Block Size\", \"Bandwidth (MB/s)\", \"Appliance_CPU_Utilization\", \"Appliance_Memory_Utilization\"]]\n",
    "    \n",
    "    df_1[\"Block Size\"] = [ bs_str[i] for i in df_1[\"Block Size\"]]\n",
    "    df_2[\"Block Size\"] = [ bs_str[i] for i in df_2[\"Block Size\"]]\n",
    "    \n",
    "    \n",
    "    # Adding Data \n",
    "    x_block_size = [str(i) for i in df_1[\"Block Size\"]]\n",
    "    y_df1_BW = df_1[\"Bandwidth (MB/s)\"]\n",
    "    y_df2_BW = df_2[\"Bandwidth (MB/s)\"]\n",
    "    y2_df1_CPU = df_1[\"Appliance_CPU_Utilization\"]\n",
    "    y2_df2_CPU = df_2[\"Appliance_CPU_Utilization\"]\n",
    "    y3_df1_Mem = df_1[\"Appliance_Memory_Utilization\"]\n",
    "    y3_df2_Mem = df_2[\"Appliance_Memory_Utilization\"]\n",
    "\n",
    "    \n",
    "    # Create and style charts\n",
    "    \n",
    "    trace0 = go.Scatter(\n",
    "        x = x_block_size,\n",
    "        y = y_df1_BW,\n",
    "        name = df_1_version,\n",
    "        line = dict(\n",
    "            color = ('rgb(205, 12, 24)'),\n",
    "            width = 4),\n",
    "        hoverlabel = { \"namelength\" : -1}, \n",
    "        cliponaxis = False)\n",
    "\n",
    "    trace1 = go.Scatter(\n",
    "        x = x_block_size,\n",
    "        y = y_df2_BW,\n",
    "        name = df_2_version,\n",
    "        line = dict(\n",
    "            color = ('rgb(22, 96, 167)'),\n",
    "            width = 4), \n",
    "        hoverlabel = { \"namelength\" : -1},\n",
    "        cliponaxis = False)\n",
    "    \n",
    "    trace2 = go.Scatter(\n",
    "        x = x_block_size,\n",
    "        y = y2_df1_CPU,\n",
    "        name = \"CPU Utilization \" + df_2_version,\n",
    "        mode='markers',\n",
    "        hoverlabel = { \"namelength\" : -1}, \n",
    "        cliponaxis = False,\n",
    "        yaxis='y2')\n",
    "    \n",
    "    trace3 = go.Scatter(\n",
    "        x = x_block_size,\n",
    "        y = y2_df2_CPU,\n",
    "        name = \"CPU Utilization \" + df_1_version,\n",
    "        mode='markers',\n",
    "        hoverlabel = { \"namelength\" : -1}, \n",
    "        cliponaxis = False,\n",
    "        yaxis='y2')\n",
    "    \n",
    "    trace4 = go.Scatter(\n",
    "        x = x_block_size,\n",
    "        y = y3_df1_Mem,\n",
    "        name = \"Memory Utilization \" + df_2_version,\n",
    "        mode='markers',\n",
    "        hoverlabel = { \"namelength\" : -1}, \n",
    "        cliponaxis = False,\n",
    "        yaxis='y2')\n",
    "    \n",
    "    trace5 = go.Scatter(\n",
    "        x = x_block_size,\n",
    "        y = y3_df2_Mem,\n",
    "        name = \"Memory Utilization \" + df_1_version,\n",
    "        mode='markers',\n",
    "        hoverlabel = { \"namelength\" : -1}, \n",
    "        cliponaxis = False,\n",
    "        yaxis='y2')\n",
    "    \n",
    "    data = [trace0, trace1, trace2, trace3, trace4, trace5]\n",
    "    \n",
    "    layout = go.Layout(title = chart_title, \n",
    "                       xaxis = dict(title = \"Block Size (in Bytes)\"),\n",
    "                       yaxis = dict(title = \"Throughput (in MBps)\" ), \n",
    "                       yaxis2=dict(title='Appliance Resource Utilization (in %)',\n",
    "                        titlefont=dict(\n",
    "                            color='rgb(148, 103, 189)'\n",
    "                        ),\n",
    "                        tickfont=dict(\n",
    "                            color='rgb(148, 103, 189)'\n",
    "                        ),\n",
    "                        overlaying='y',\n",
    "                        side='right'\n",
    "                    ))\n",
    "\n",
    "    fig = dict(data=data, layout=layout)\n",
    "    \n",
    "    f_name = chart_title.replace(\" \", \"_\") + \".html\"\n",
    "\n",
    "    pyo.plot(fig, filename=f_name)"
   ]
  },
  {
   "cell_type": "markdown",
   "metadata": {},
   "source": [
    "## Chart 1 - Sustained Multi-Threaded Sequential Read Tests by Block Size\n"
   ]
  },
  {
   "cell_type": "code",
   "execution_count": 20,
   "metadata": {
    "collapsed": true
   },
   "outputs": [],
   "source": [
    "bandwidth_blocksize(test_name = \"Sustained Multi-Threaded Sequential Read Tests by Block Size\",\n",
    "                    df_build=df_build, \n",
    "                    df_baseline=df_baseline, \n",
    "                    base_version=\"v3.7.10408 (Build)\", \n",
    "                    build_version=\"v3.6.10307 (Baseline)\", \n",
    "                    chart_title=\"Sustained Multi-Threaded Sequential Read Tests by Block Size\")"
   ]
  },
  {
   "cell_type": "markdown",
   "metadata": {},
   "source": [
    "## Chart 2 - Sustained Multi-Threaded Random Read Tests by Block Size(QD=256)\n"
   ]
  },
  {
   "cell_type": "code",
   "execution_count": 22,
   "metadata": {
    "collapsed": true
   },
   "outputs": [],
   "source": [
    "bandwidth_blocksize(test_name = \"Sustained Multi-Threaded Random Read Tests by Block Size\",\n",
    "                    df_build=df_build, \n",
    "                    df_baseline=df_baseline, \n",
    "                    base_version=\"v3.7.10408 (Build)\", \n",
    "                    build_version=\"v3.6.10307 (Baseline)\", \n",
    "                    chart_title=\"Sustained Multi-Threaded Random Read Tests by Block Size\")"
   ]
  },
  {
   "cell_type": "markdown",
   "metadata": {},
   "source": [
    "## Chart 3 - Sequential Write Tests with Queue Depth=1 by Block Size\n"
   ]
  },
  {
   "cell_type": "code",
   "execution_count": 23,
   "metadata": {
    "collapsed": true
   },
   "outputs": [],
   "source": [
    "bandwidth_blocksize(test_name = \"Sequential Write Tests with Queue Depth=1 by Block Size\",\n",
    "                    df_build=df_build, \n",
    "                    df_baseline=df_baseline, \n",
    "                    base_version=\"v3.7.10408 (Build)\", \n",
    "                    build_version=\"v3.6.10307 (Baseline)\", \n",
    "                    chart_title=\"Sequential Write Tests with Queue Depth 1 by Block Size\")"
   ]
  },
  {
   "cell_type": "markdown",
   "metadata": {},
   "source": [
    "# IOPS Charts"
   ]
  },
  {
   "cell_type": "code",
   "execution_count": 13,
   "metadata": {
    "collapsed": true
   },
   "outputs": [],
   "source": [
    "def iops_qd(test_name, df_build, df_baseline, build_version, base_version, chart_title):\n",
    "    \n",
    "    \n",
    "    df_1 = df_build[df_build[\"Test_Name\"] == test_name]\n",
    "    df_1_version = build_version\n",
    "\n",
    "\n",
    "    df_2 = df_baseline[df_baseline[\"Test_Name\"] == test_name]\n",
    "    df_2_version = base_version\n",
    "\n",
    "    df_1 = df_1[[\"Threads\", \"IOPS\", \"Appliance_CPU_Utilization\", \"Appliance_Memory_Utilization\"]]\n",
    "    df_2 = df_2[[\"Threads\", \"IOPS\", \"Appliance_CPU_Utilization\", \"Appliance_Memory_Utilization\"]]\n",
    "\n",
    "\n",
    "\n",
    "    # Adding Data \n",
    "    x_qd = [str(i) for i in df_1[\"Threads\"]]\n",
    "    y_df1_BW = df_1[\"IOPS\"]\n",
    "    y_df2_BW = df_2[\"IOPS\"]\n",
    "    y2_df1_CPU = df_1[\"Appliance_CPU_Utilization\"]\n",
    "    y2_df2_CPU = df_2[\"Appliance_CPU_Utilization\"]\n",
    "    y3_df1_Mem = df_1[\"Appliance_Memory_Utilization\"]\n",
    "    y3_df2_Mem = df_2[\"Appliance_Memory_Utilization\"]\n",
    "\n",
    "    # Create and style charts\n",
    "\n",
    "    trace0 = go.Scatter(\n",
    "        x = x_qd,\n",
    "        y = y_df1_BW,\n",
    "        name = df_1_version,\n",
    "        line = dict(\n",
    "            color = ('rgb(205, 12, 24)'),\n",
    "            width = 4),\n",
    "        hoverlabel = { \"namelength\" : -1}, \n",
    "        cliponaxis = False)\n",
    "\n",
    "    trace1 = go.Scatter(\n",
    "        x = x_qd,\n",
    "        y = y_df2_BW,\n",
    "        name = df_2_version,\n",
    "        line = dict(\n",
    "            color = ('rgb(22, 96, 167)'),\n",
    "            width = 4), \n",
    "        hoverlabel = { \"namelength\" : -1},\n",
    "        cliponaxis = False)\n",
    "\n",
    "    trace2 = go.Scatter(\n",
    "        x = x_qd,\n",
    "        y = y2_df1_CPU,\n",
    "        name = \"CPU Utilization \" + df_2_version,\n",
    "        mode='markers',\n",
    "        hoverlabel = { \"namelength\" : -1}, \n",
    "        cliponaxis = False,\n",
    "        yaxis='y2')\n",
    "    \n",
    "    trace3 = go.Scatter(\n",
    "        x = x_qd,\n",
    "        y = y2_df2_CPU,\n",
    "        name = \"CPU Utilization \" + df_1_version,\n",
    "        mode='markers',\n",
    "        hoverlabel = { \"namelength\" : -1}, \n",
    "        cliponaxis = False,\n",
    "        yaxis='y2')\n",
    "    \n",
    "    trace4 = go.Scatter(\n",
    "        x = x_qd,\n",
    "        y = y3_df1_Mem,\n",
    "        name = \"Memory Utilization \" + df_2_version,\n",
    "        mode='markers',\n",
    "        hoverlabel = { \"namelength\" : -1}, \n",
    "        cliponaxis = False,\n",
    "        yaxis='y2')\n",
    "    \n",
    "    trace5 = go.Scatter(\n",
    "        x = x_qd,\n",
    "        y = y3_df2_Mem,\n",
    "        name = \"Memory Utilization \" + df_1_version,\n",
    "        mode='markers',\n",
    "        hoverlabel = { \"namelength\" : -1}, \n",
    "        cliponaxis = False,\n",
    "        yaxis='y2')\n",
    "    \n",
    "    data = [trace0, trace1, trace2, trace3, trace4, trace5]\n",
    "\n",
    "    layout = go.Layout(title = chart_title, \n",
    "                       xaxis = dict(title = \"Queue Depth\"),\n",
    "                       yaxis = dict(title = \"IOPS\" ),\n",
    "                       yaxis2=dict(title='Appliance Resource Utilization (in %)',\n",
    "                        titlefont=dict(\n",
    "                            color='rgb(148, 103, 189)'\n",
    "                        ),\n",
    "                        tickfont=dict(\n",
    "                            color='rgb(148, 103, 189)'\n",
    "                        ),\n",
    "                        overlaying='y',\n",
    "                        side='right'\n",
    "                    ))\n",
    "\n",
    "    fig = dict(data=data, layout=layout)\n",
    "\n",
    "    f_name = chart_title.replace(\" \", \"_\") + \".html\"\n",
    "\n",
    "    pyo.plot(fig, filename=f_name)"
   ]
  },
  {
   "cell_type": "code",
   "execution_count": null,
   "metadata": {
    "collapsed": true
   },
   "outputs": [],
   "source": []
  },
  {
   "attachments": {},
   "cell_type": "markdown",
   "metadata": {},
   "source": [
    "## Chart 4 - Sustained 4KB Random mixed 50% Write Tests by Threads\n",
    "\n"
   ]
  },
  {
   "cell_type": "code",
   "execution_count": 14,
   "metadata": {},
   "outputs": [],
   "source": [
    "iops_qd(test_name = \"Sustained 4KB Random mixed 50% Write Tests by Threads\",\n",
    "        df_build=df_build,\n",
    "        df_baseline=df_baseline,\n",
    "        base_version=\"v3.7.10408 (Build)\",\n",
    "        build_version=\"v3.6.10307 (Baseline)\" ,\n",
    "        chart_title=\"Sustained Random 4K Mixed Read 50 percent\")"
   ]
  },
  {
   "cell_type": "markdown",
   "metadata": {},
   "source": [
    "## Chart 5 - Sustained 4K Random Read\n",
    "\n"
   ]
  },
  {
   "cell_type": "code",
   "execution_count": 15,
   "metadata": {
    "collapsed": true
   },
   "outputs": [],
   "source": [
    "iops_qd(test_name = \"Sustained 4KB Random Read Tests by Number of Threads\",\n",
    "        df_build=df_build,\n",
    "        df_baseline=df_baseline,\n",
    "        base_version=\"v3.7.10408 (Build)\",\n",
    "        build_version=\"v3.6.10307 (Baseline)\" ,\n",
    "        chart_title=\"Sustained 4K Random Read\")"
   ]
  },
  {
   "cell_type": "markdown",
   "metadata": {},
   "source": [
    "## Chart 6 - Sustained 4K Random Write\n"
   ]
  },
  {
   "cell_type": "code",
   "execution_count": 16,
   "metadata": {
    "collapsed": true
   },
   "outputs": [],
   "source": [
    "iops_qd(test_name = \"Sustained 4KB Random Write Tests by Number of Threads\",\n",
    "        df_build=df_build,\n",
    "        df_baseline=df_baseline,\n",
    "        base_version=\"v3.7.10408 (Build)\",\n",
    "        build_version=\"v3.6.10307 (Baseline)\" ,\n",
    "        chart_title=\"Sustained 4K Random Write\")"
   ]
  },
  {
   "cell_type": "markdown",
   "metadata": {},
   "source": [
    "# Latency Charts"
   ]
  },
  {
   "cell_type": "code",
   "execution_count": 17,
   "metadata": {},
   "outputs": [],
   "source": [
    "def lat_qd(test_name, df_build, df_baseline, build_version, base_version, chart_title):\n",
    "    \n",
    "    \n",
    "    df_1 = df_build[df_build[\"Test_Name\"] == test_name]\n",
    "    df_1_version = build_version\n",
    "\n",
    "\n",
    "    df_2 = df_baseline[df_baseline[\"Test_Name\"] == test_name]\n",
    "    df_2_version = base_version\n",
    "\n",
    "    if \"write\" in test_name.lower():\n",
    "        col = \"Write Latency (us)\"\n",
    "    else:\n",
    "        col = \"Read Latency (us)\"\n",
    "        \n",
    "        \n",
    "    df_1 = df_1[[\"Threads\", \"Appliance_CPU_Utilization\", \"Appliance_Memory_Utilization\", col]]\n",
    "    df_2 = df_2[[\"Threads\", \"Appliance_CPU_Utilization\", \"Appliance_Memory_Utilization\", col]]        \n",
    "\n",
    "\n",
    "    # Adding Data \n",
    "    x_qd = [str(i) for i in df_1[\"Threads\"]]\n",
    "    y_df1_BW = df_1[col]\n",
    "    y_df2_BW = df_2[col]\n",
    "    y2_df1_CPU = df_1[\"Appliance_CPU_Utilization\"]\n",
    "    y2_df2_CPU = df_2[\"Appliance_CPU_Utilization\"]\n",
    "    y3_df1_Mem = df_1[\"Appliance_Memory_Utilization\"]\n",
    "    y3_df2_Mem = df_2[\"Appliance_Memory_Utilization\"]\n",
    "    \n",
    "    # Create and style charts\n",
    "\n",
    "    trace0 = go.Scatter(\n",
    "        x = x_qd,\n",
    "        y = y_df1_BW,\n",
    "        name = df_1_version,\n",
    "        line = dict(\n",
    "            color = ('rgb(205, 12, 24)'),\n",
    "            width = 4),\n",
    "        hoverlabel = { \"namelength\" : -1}, \n",
    "        cliponaxis = False)\n",
    "\n",
    "    trace1 = go.Scatter(\n",
    "        x = x_qd,\n",
    "        y = y_df2_BW,\n",
    "        name = df_2_version,\n",
    "        line = dict(\n",
    "            color = ('rgb(22, 96, 167)'),\n",
    "            width = 4), \n",
    "        hoverlabel = { \"namelength\" : -1},\n",
    "        cliponaxis = False)\n",
    "\n",
    "    trace2 = go.Scatter(\n",
    "        x = x_qd,\n",
    "        y = y2_df1_CPU,\n",
    "        name = \"CPU Utilization \" + df_2_version,\n",
    "        mode='markers',\n",
    "        hoverlabel = { \"namelength\" : -1}, \n",
    "        cliponaxis = False,\n",
    "        yaxis='y2')\n",
    "    \n",
    "    trace3 = go.Scatter(\n",
    "        x = x_qd,\n",
    "        y = y2_df2_CPU,\n",
    "        name = \"CPU Utilization \" + df_1_version,\n",
    "        mode='markers',\n",
    "        hoverlabel = { \"namelength\" : -1}, \n",
    "        cliponaxis = False,\n",
    "        yaxis='y2')\n",
    "    \n",
    "    trace4 = go.Scatter(\n",
    "        x = x_qd,\n",
    "        y = y3_df1_Mem,\n",
    "        name = \"Memory Utilization \" + df_2_version,\n",
    "        mode='markers',\n",
    "        hoverlabel = { \"namelength\" : -1}, \n",
    "        cliponaxis = False,\n",
    "        yaxis='y2')\n",
    "    \n",
    "    trace5 = go.Scatter(\n",
    "        x = x_qd,\n",
    "        y = y3_df2_Mem,\n",
    "        name = \"Memory Utilization \" + df_1_version,\n",
    "        mode='markers',\n",
    "        hoverlabel = { \"namelength\" : -1}, \n",
    "        cliponaxis = False,\n",
    "        yaxis='y2')\n",
    "    \n",
    "    data = [trace0, trace1, trace2, trace3, trace4, trace5]\n",
    "\n",
    "    layout = go.Layout(title = chart_title, \n",
    "                       xaxis = dict(title = \"Queue Depth\"),\n",
    "                       yaxis = dict(title = col ),\n",
    "                       yaxis2=dict(title='Appliance Resource Utilization (in %)',\n",
    "                        titlefont=dict(\n",
    "                            color='rgb(148, 103, 189)'\n",
    "                        ),\n",
    "                        tickfont=dict(\n",
    "                            color='rgb(148, 103, 189)'\n",
    "                        ),\n",
    "                        overlaying='y',\n",
    "                        side='right'\n",
    "                    ))\n",
    "\n",
    "    fig = dict(data=data, layout=layout)\n",
    "\n",
    "    f_name = chart_title.replace(\" \", \"_\") + \".html\"\n",
    "\n",
    "    pyo.plot(fig, filename=f_name)"
   ]
  },
  {
   "cell_type": "code",
   "execution_count": null,
   "metadata": {
    "collapsed": true
   },
   "outputs": [],
   "source": []
  },
  {
   "cell_type": "markdown",
   "metadata": {},
   "source": [
    "## Chart 7 - Latency Test Sustained 4KB Random Read Tests"
   ]
  },
  {
   "cell_type": "code",
   "execution_count": 18,
   "metadata": {},
   "outputs": [],
   "source": [
    "lat_qd(test_name = \"Latency Test Sustained 4KB Random Read Tests by Number of Threads\",\n",
    "        df_build=df_build,\n",
    "        df_baseline=df_baseline,\n",
    "        base_version=\"v3.7.10408 (Build)\",\n",
    "        build_version=\"v3.6.10307 (Baseline)\" ,\n",
    "        chart_title=\"Latency Test Sustained 4KB Random Read Tests by Number of Threads\")"
   ]
  },
  {
   "cell_type": "markdown",
   "metadata": {},
   "source": [
    "## Chart 8 - Latency Test Sustained 4KB Random Read Tests"
   ]
  },
  {
   "cell_type": "code",
   "execution_count": 19,
   "metadata": {
    "collapsed": true
   },
   "outputs": [],
   "source": [
    "lat_qd(test_name = \"Latency Test Sustained 4KB Random Write Tests by Number of Threads\",\n",
    "        df_build=df_build,\n",
    "        df_baseline=df_baseline,\n",
    "        base_version=\"v3.7.10408 (Build)\",\n",
    "        build_version=\"v3.6.10307 (Baseline)\" ,\n",
    "        chart_title=\"Latency Test Sustained 4KB Random Write Tests by Number of Threads\")"
   ]
  },
  {
   "cell_type": "code",
   "execution_count": null,
   "metadata": {
    "collapsed": true
   },
   "outputs": [],
   "source": []
  }
 ],
 "metadata": {
  "kernelspec": {
   "display_name": "Python 3",
   "language": "python",
   "name": "python3"
  },
  "language_info": {
   "codemirror_mode": {
    "name": "ipython",
    "version": 3
   },
   "file_extension": ".py",
   "mimetype": "text/x-python",
   "name": "python",
   "nbconvert_exporter": "python",
   "pygments_lexer": "ipython3",
   "version": "3.6.3"
  }
 },
 "nbformat": 4,
 "nbformat_minor": 2
}
